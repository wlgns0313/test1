{
  "cells": [
    {
      "cell_type": "markdown",
      "metadata": {
        "id": "ITwMewsf8i_j"
      },
      "source": [
        "This is a companion notebook for the book [Deep Learning with Python, Second Edition](https://www.manning.com/books/deep-learning-with-python-second-edition?a_aid=keras&a_bid=76564dff). For readability, it only contains runnable code blocks and section titles, and omits everything else in the book: text paragraphs, figures, and pseudocode.\n",
        "\n",
        "**If you want to be able to follow what's going on, I recommend reading the notebook side by side with your copy of the book.**\n",
        "\n",
        "This notebook was generated for TensorFlow 2.6."
      ]
    },
    {
      "cell_type": "markdown",
      "metadata": {
        "id": "-K0H3zef8i_n"
      },
      "source": [
        "# Introduction to Keras and TensorFlow"
      ]
    },
    {
      "cell_type": "markdown",
      "metadata": {
        "id": "nuF8BO_t8i_n"
      },
      "source": [
        "## What's TensorFlow?"
      ]
    },
    {
      "cell_type": "markdown",
      "metadata": {
        "id": "_UZly5OZ8i_o"
      },
      "source": [
        "## What's Keras?"
      ]
    },
    {
      "cell_type": "markdown",
      "metadata": {
        "id": "s1h_X2vy8i_p"
      },
      "source": [
        "## Keras and TensorFlow: A brief history"
      ]
    },
    {
      "cell_type": "markdown",
      "metadata": {
        "id": "XzzIjkS-8i_p"
      },
      "source": [
        "## Setting up a deep-learning workspace"
      ]
    },
    {
      "cell_type": "markdown",
      "metadata": {
        "id": "6TPc9jBe8i_q"
      },
      "source": [
        "### Jupyter notebooks: The preferred way to run deep-learning experiments"
      ]
    },
    {
      "cell_type": "markdown",
      "metadata": {
        "id": "44DT0qgC8i_q"
      },
      "source": [
        "### Using Colaboratory"
      ]
    },
    {
      "cell_type": "markdown",
      "metadata": {
        "id": "k1hcPh2Y8i_r"
      },
      "source": [
        "#### First steps with Colaboratory"
      ]
    },
    {
      "cell_type": "markdown",
      "metadata": {
        "id": "i2SRKmlf8i_r"
      },
      "source": [
        "#### Installing packages with pip"
      ]
    },
    {
      "cell_type": "markdown",
      "metadata": {
        "id": "HLi6ssKO8i_s"
      },
      "source": [
        "#### Using the GPU runtime"
      ]
    },
    {
      "cell_type": "markdown",
      "metadata": {
        "id": "gAu5XV7U8i_s"
      },
      "source": [
        "## First steps with TensorFlow"
      ]
    },
    {
      "cell_type": "markdown",
      "metadata": {
        "id": "-4l2_1Qt8i_t"
      },
      "source": [
        "#### Constant tensors and variables"
      ]
    },
    {
      "cell_type": "markdown",
      "metadata": {
        "id": "XNttGeXp8i_t"
      },
      "source": [
        "**All-ones or all-zeros tensors**"
      ]
    },
    {
      "cell_type": "code",
      "execution_count": 15,
      "metadata": {
        "colab": {
          "base_uri": "https://localhost:8080/"
        },
        "id": "rJ-NAfOY8i_u",
        "outputId": "e8b52581-728c-40dd-d317-d564ad1ee735"
      },
      "outputs": [
        {
          "output_type": "stream",
          "name": "stdout",
          "text": [
            "tf.Tensor(\n",
            "[[1.]\n",
            " [1.]], shape=(2, 1), dtype=float32)\n"
          ]
        }
      ],
      "source": [
        "import tensorflow as tf #TensorFlow 버전 행렬 만들기\n",
        "x = tf.ones(shape=(2, 1)) #2행 1열짜리 원소 1만 가지는 Matrices\n",
        "print(x)"
      ]
    },
    {
      "cell_type": "code",
      "execution_count": 3,
      "metadata": {
        "colab": {
          "base_uri": "https://localhost:8080/"
        },
        "id": "xMqIk2Qe8i_v",
        "outputId": "2901b1bf-4375-4e3e-cd64-d46839a1d16e"
      },
      "outputs": [
        {
          "output_type": "stream",
          "name": "stdout",
          "text": [
            "tf.Tensor(\n",
            "[[0.]\n",
            " [0.]], shape=(2, 1), dtype=float32)\n"
          ]
        }
      ],
      "source": [
        "x = tf.zeros(shape=(2, 1)) #2행 1열짜리 원소 0만 가지는 Matrices\n",
        "print(x)"
      ]
    },
    {
      "cell_type": "markdown",
      "metadata": {
        "id": "69cIvuGz8i_w"
      },
      "source": [
        "**Random tensors**"
      ]
    },
    {
      "cell_type": "code",
      "execution_count": 4,
      "metadata": {
        "colab": {
          "base_uri": "https://localhost:8080/"
        },
        "id": "XY6botEc8i_w",
        "outputId": "c87a1a61-4ebc-42c9-9c03-01d35d2d4318"
      },
      "outputs": [
        {
          "output_type": "stream",
          "name": "stdout",
          "text": [
            "tf.Tensor(\n",
            "[[1.6323872]\n",
            " [1.6332383]\n",
            " [1.096591 ]], shape=(3, 1), dtype=float32)\n"
          ]
        }
      ],
      "source": [
        "x = tf.random.normal(shape=(3, 1), mean=0., stddev=1.) # N(0,1)을 따르는 원소 랜덤 추출 후 3행 1열 Matrices 만듦\n",
        "print(x)"
      ]
    },
    {
      "cell_type": "code",
      "execution_count": 7,
      "metadata": {
        "colab": {
          "base_uri": "https://localhost:8080/"
        },
        "id": "c9TV7_SP8i_x",
        "outputId": "2e8a75a2-68b8-4131-c459-8663feedb45e"
      },
      "outputs": [
        {
          "output_type": "stream",
          "name": "stdout",
          "text": [
            "tf.Tensor(\n",
            "[[0.16761029]\n",
            " [0.49351037]\n",
            " [0.20908105]], shape=(3, 1), dtype=float32)\n"
          ]
        }
      ],
      "source": [
        "x = tf.random.uniform(shape=(3, 1), minval=0., maxval=1.) #0 이상 1 이하의 원소로 채워넣음\n",
        "print(x)"
      ]
    },
    {
      "cell_type": "markdown",
      "metadata": {
        "id": "6Ncpe5Ya8i_x"
      },
      "source": [
        "**NumPy arrays are assignable**"
      ]
    },
    {
      "cell_type": "code",
      "execution_count": 10,
      "metadata": {
        "colab": {
          "base_uri": "https://localhost:8080/"
        },
        "id": "qDnvKdRj8i_x",
        "outputId": "a007f0b8-65e9-43c7-f323-da98a6c9014b"
      },
      "outputs": [
        {
          "output_type": "stream",
          "name": "stdout",
          "text": [
            "[[0. 1.]\n",
            " [1. 1.]]\n"
          ]
        }
      ],
      "source": [
        "import numpy as np #np 버전 행렬 만들기\n",
        "x = np.ones(shape=(2, 2))\n",
        "x[0, 0] = 0. #1행 1열 (0번 인덱스 = 1) 원소를 0으로 고정\n",
        "print(x)"
      ]
    },
    {
      "cell_type": "markdown",
      "metadata": {
        "id": "TpmLJuUf8i_y"
      },
      "source": [
        "**Creating a TensorFlow variable**"
      ]
    },
    {
      "cell_type": "code",
      "execution_count": 20,
      "metadata": {
        "colab": {
          "base_uri": "https://localhost:8080/"
        },
        "id": "Gm8QsZ9K8i_y",
        "outputId": "8e1c3d63-56fa-471d-e864-fd50c8d9cf23"
      },
      "outputs": [
        {
          "output_type": "stream",
          "name": "stdout",
          "text": [
            "<tf.Variable 'Variable:0' shape=(3, 1) dtype=float32, numpy=\n",
            "array([[-0.26860717],\n",
            "       [-0.6775783 ],\n",
            "       [ 0.5522478 ]], dtype=float32)>\n"
          ]
        }
      ],
      "source": [
        "v = tf.Variable(initial_value=tf.random.normal(shape=(3, 1))) #기존 TensorFlow 변수는 assignable하지 않아 원소를 바꾸는 것이 불가능\n",
        "print(v)"
      ]
    },
    {
      "cell_type": "markdown",
      "metadata": {
        "id": "pnsMVM_A8i_y"
      },
      "source": [
        "**Assigning a value to a TensorFlow variable**"
      ]
    },
    {
      "cell_type": "code",
      "execution_count": 26,
      "metadata": {
        "colab": {
          "base_uri": "https://localhost:8080/"
        },
        "id": "EqcP5bUf8i_y",
        "outputId": "2acccd2a-e153-4923-d616-a083b6c4c416"
      },
      "outputs": [
        {
          "output_type": "execute_result",
          "data": {
            "text/plain": [
              "<tf.Variable 'UnreadVariable' shape=(3, 1) dtype=float32, numpy=\n",
              "array([[1.],\n",
              "       [1.],\n",
              "       [1.]], dtype=float32)>"
            ]
          },
          "metadata": {},
          "execution_count": 26
        }
      ],
      "source": [
        "v.assign(tf.ones((3, 1))) #v.assign 함수를 통해 원소 변경 가능"
      ]
    },
    {
      "cell_type": "markdown",
      "metadata": {
        "id": "WiIszB678i_z"
      },
      "source": [
        "**Assigning a value to a subset of a TensorFlow variable**"
      ]
    },
    {
      "cell_type": "code",
      "execution_count": 27,
      "metadata": {
        "colab": {
          "base_uri": "https://localhost:8080/"
        },
        "id": "AQ_CqPJP8i_z",
        "outputId": "98593855-da8a-415a-e0fb-4fd4b33c1279"
      },
      "outputs": [
        {
          "output_type": "execute_result",
          "data": {
            "text/plain": [
              "<tf.Variable 'UnreadVariable' shape=(3, 1) dtype=float32, numpy=\n",
              "array([[3.],\n",
              "       [1.],\n",
              "       [1.]], dtype=float32)>"
            ]
          },
          "metadata": {},
          "execution_count": 27
        }
      ],
      "source": [
        "v[0, 0].assign(3.) #v[i,j].assign() 함수를 통해 특정 원소만 변경"
      ]
    },
    {
      "cell_type": "markdown",
      "metadata": {
        "id": "LjOZgcS08i_z"
      },
      "source": [
        "**Using `assign_add`**"
      ]
    },
    {
      "cell_type": "code",
      "execution_count": 28,
      "metadata": {
        "colab": {
          "base_uri": "https://localhost:8080/"
        },
        "id": "TX_uVibn8i_z",
        "outputId": "ed813011-18c3-4d30-9c03-9cdb122bab91"
      },
      "outputs": [
        {
          "output_type": "execute_result",
          "data": {
            "text/plain": [
              "<tf.Variable 'UnreadVariable' shape=(3, 1) dtype=float32, numpy=\n",
              "array([[4.],\n",
              "       [2.],\n",
              "       [2.]], dtype=float32)>"
            ]
          },
          "metadata": {},
          "execution_count": 28
        }
      ],
      "source": [
        "v.assign_add(tf.ones((3, 1))) # 3행 1열짜리 1뿐인 행렬을 v에다가 더함"
      ]
    },
    {
      "cell_type": "markdown",
      "metadata": {
        "id": "vmiAP0Wj8i_0"
      },
      "source": [
        "#### Tensor operations: Doing math in TensorFlow"
      ]
    },
    {
      "cell_type": "markdown",
      "metadata": {
        "id": "BseT_-u18i_0"
      },
      "source": [
        "**A few basic math operations**"
      ]
    },
    {
      "cell_type": "code",
      "execution_count": 30,
      "metadata": {
        "colab": {
          "base_uri": "https://localhost:8080/"
        },
        "id": "N8wzzcoA8i_0",
        "outputId": "6a46fb58-dca8-4a90-913b-17231763df3d"
      },
      "outputs": [
        {
          "output_type": "stream",
          "name": "stdout",
          "text": [
            "tf.Tensor(\n",
            "[[1. 1.]\n",
            " [1. 1.]], shape=(2, 2), dtype=float32) tf.Tensor(\n",
            "[[1. 1.]\n",
            " [1. 1.]], shape=(2, 2), dtype=float32) tf.Tensor(\n",
            "[[1. 1.]\n",
            " [1. 1.]], shape=(2, 2), dtype=float32) tf.Tensor(\n",
            "[[2. 2.]\n",
            " [2. 2.]], shape=(2, 2), dtype=float32) tf.Tensor(\n",
            "[[4. 4.]\n",
            " [4. 4.]], shape=(2, 2), dtype=float32)\n"
          ]
        }
      ],
      "source": [
        "a = tf.ones((2, 2)) #원소 다 1인 Matrices로 지정\n",
        "b = tf.square(a) #원소 모두 제곱\n",
        "c = tf.sqrt(a) #원소 모두 근호 씌움\n",
        "d = b + c #두 행렬 덧셈\n",
        "e = tf.matmul(a, b) #두 행렬 곱셉\n",
        "e *= d #행렬 곱한 값 적용 -> e를 ed로 변환"
      ]
    },
    {
      "cell_type": "markdown",
      "metadata": {
        "id": "j2-pAPiP8i_1"
      },
      "source": [
        "#### A second look at the GradientTape API"
      ]
    },
    {
      "cell_type": "markdown",
      "metadata": {
        "id": "oLUFwpNa8i_1"
      },
      "source": [
        "**Using the `GradientTape`**"
      ]
    },
    {
      "cell_type": "code",
      "execution_count": 39,
      "metadata": {
        "colab": {
          "base_uri": "https://localhost:8080/"
        },
        "id": "hSKvgIRh8i_1",
        "outputId": "3be6edd2-4717-47df-a067-92147ac417e0"
      },
      "outputs": [
        {
          "output_type": "stream",
          "name": "stdout",
          "text": [
            "tf.Tensor(6.0, shape=(), dtype=float32)\n"
          ]
        }
      ],
      "source": [
        "input_var = tf.Variable(initial_value=3.)\n",
        "with tf.GradientTape() as tape: #result : y, input_var : x로 보면 편함\n",
        "   result = tf.square(input_var) # y=x^2 고급스럽게 표현함\n",
        "gradient = tape.gradient(result, input_var) # dy/dx\n",
        "print(gradient) #y=2x에 x=3 (initial_value = 3.) 대입한 값인 6 나옴"
      ]
    },
    {
      "cell_type": "markdown",
      "metadata": {
        "id": "YrDJOSkz8i_2"
      },
      "source": [
        "**Using `GradientTape` with constant tensor inputs**"
      ]
    },
    {
      "cell_type": "code",
      "execution_count": 37,
      "metadata": {
        "colab": {
          "base_uri": "https://localhost:8080/"
        },
        "id": "olfgrAMc8i_2",
        "outputId": "342f68ba-03ac-4570-ab5c-d4bbe28f6064"
      },
      "outputs": [
        {
          "output_type": "stream",
          "name": "stdout",
          "text": [
            "tf.Tensor(6.0, shape=(), dtype=float32)\n"
          ]
        }
      ],
      "source": [
        "input_const = tf.constant(3.) #상수 (변수가 아님)\n",
        "with tf.GradientTape() as tape:\n",
        "   tape.watch(input_const) #상수를 변수로 변환\n",
        "   result = tf.square(input_const) #y=x^2\n",
        "gradient = tape.gradient(result, input_const) #변환 안 하고 미분하면 None 뜸 (상수로는 미분이 불가능하므로)\n",
        "print(gradient) # 마찬가지로 input_const=3.이므로 y=2x에 3 대입한 값인 6 나옴"
      ]
    },
    {
      "cell_type": "markdown",
      "metadata": {
        "id": "4mThzBjJ8i_2"
      },
      "source": [
        "**Using nested gradient tapes to compute second-order gradients**"
      ]
    },
    {
      "cell_type": "code",
      "execution_count": null,
      "metadata": {
        "id": "fPSo82-X8i_3"
      },
      "outputs": [],
      "source": [
        "#수업 시간에 안 함\n",
        "time = tf.Variable(0.)\n",
        "with tf.GradientTape() as outer_tape:\n",
        "    with tf.GradientTape() as inner_tape:\n",
        "        position =  4.9 * time ** 2\n",
        "    speed = inner_tape.gradient(position, time)\n",
        "acceleration = outer_tape.gradient(speed, time)"
      ]
    },
    {
      "cell_type": "markdown",
      "metadata": {
        "id": "eDVMRR0V8jAO"
      },
      "source": [
        "#### An end-to-end example: A linear classifier in pure TensorFlow"
      ]
    },
    {
      "cell_type": "markdown",
      "metadata": {
        "id": "Cq1moJKC8jAO"
      },
      "source": [
        "**Generating two classes of random points in a 2D plane**"
      ]
    },
    {
      "cell_type": "code",
      "execution_count": 44,
      "metadata": {
        "id": "v8_hiGnQ8jAO"
      },
      "outputs": [],
      "source": [
        "num_samples_per_class = 1000\n",
        "negative_samples = np.random.multivariate_normal(\n",
        "    mean=[0, 3], #(0,3) 기준으로 주변으로 흩어짐\n",
        "    cov=[[1, 0.5],[0.5, 1]],\n",
        "    size=num_samples_per_class) #표본 개수는 1000개 (맨 윗줄에서 1000개로 지정했음) -> sample은 1000행 2열\n",
        "positive_samples = np.random.multivariate_normal(\n",
        "    mean=[3, 0], #(3, 0) 기준으로 주변으로 흩어짐\n",
        "    cov=[[1, 0.5],[0.5, 1]],\n",
        "    size=num_samples_per_class)"
      ]
    },
    {
      "cell_type": "markdown",
      "metadata": {
        "id": "ou5BVOKb8jAP"
      },
      "source": [
        "**Stacking the two classes into an array with shape (2000, 2)**"
      ]
    },
    {
      "cell_type": "code",
      "execution_count": 45,
      "metadata": {
        "id": "Y75zOA1E8jAP"
      },
      "outputs": [],
      "source": [
        "inputs = np.vstack((negative_samples, positive_samples)).astype(np.float32)\n",
        "#np.vstack : 두 행렬을 세로로 합침"
      ]
    },
    {
      "cell_type": "code",
      "source": [
        "a=np.ones((2,1))\n",
        "b=np.zeros((2,1))\n",
        "np.vstack((a,b))\n",
        "#두 행렬을 행 방향으로 합침"
      ],
      "metadata": {
        "colab": {
          "base_uri": "https://localhost:8080/"
        },
        "id": "UZuYYA2gB4Mo",
        "outputId": "e5967e51-4140-44e4-8f96-50d3aa5f79d9"
      },
      "execution_count": 50,
      "outputs": [
        {
          "output_type": "execute_result",
          "data": {
            "text/plain": [
              "array([[1.],\n",
              "       [1.],\n",
              "       [0.],\n",
              "       [0.]])"
            ]
          },
          "metadata": {},
          "execution_count": 50
        }
      ]
    },
    {
      "cell_type": "markdown",
      "metadata": {
        "id": "rLpz2OSF8jAP"
      },
      "source": [
        "**Generating the corresponding targets (0 and 1)**"
      ]
    },
    {
      "cell_type": "code",
      "execution_count": 51,
      "metadata": {
        "id": "NDNZJFWn8jAP"
      },
      "outputs": [],
      "source": [
        "targets = np.vstack((np.zeros((num_samples_per_class, 1), dtype=\"float32\"), #1000행 1열짜리 원소 0뿐인 Matrices\n",
        "                     np.ones((num_samples_per_class, 1), dtype=\"float32\"))) #1000행 1열짜리 원소 1뿐인 Matrices\n",
        "#np.vstack으로 두 행렬 합침 (2000행 1열로 만듦)"
      ]
    },
    {
      "cell_type": "markdown",
      "metadata": {
        "id": "yXvrSHiP8jAQ"
      },
      "source": [
        "**Plotting the two point classes**"
      ]
    },
    {
      "cell_type": "code",
      "execution_count": 52,
      "metadata": {
        "colab": {
          "base_uri": "https://localhost:8080/",
          "height": 430
        },
        "id": "_tayOrLq8jAQ",
        "outputId": "483952ef-8f4f-40cb-8ba0-9d7ed9340cb8"
      },
      "outputs": [
        {
          "output_type": "display_data",
          "data": {
            "text/plain": [
              "<Figure size 640x480 with 1 Axes>"
            ],
            "image/png": "[encoded data removed]"
          },
          "metadata": {}
        }
      ],
      "source": [
        "import matplotlib.pyplot as plt\n",
        "plt.scatter(inputs[:, 0], inputs[:, 1], c=targets[:, 0]) #(0,3) 및 (3,0)을 중심으로 잘 모여있음을 확인\n",
        "plt.show()"
      ]
    },
    {
      "cell_type": "markdown",
      "metadata": {
        "id": "dMhSmDyR8jAQ"
      },
      "source": [
        "**Creating the linear classifier variables**"
      ]
    },
    {
      "cell_type": "code",
      "execution_count": 55,
      "metadata": {
        "id": "DexG7I0A8jAQ"
      },
      "outputs": [],
      "source": [
        "input_dim = 2\n",
        "output_dim = 1\n",
        "W = tf.Variable(initial_value=tf.random.uniform(shape=(input_dim, output_dim))) # X와 W의 차원은 2차원, X * W의 값은 1차원이 되도록 함 (X에 x와 y가 있고 W에 w_1, w_2가 있음)\n",
        "b = tf.Variable(initial_value=tf.zeros(shape=(output_dim,))) # b의 값도 1차원으로 설정 (연산 결과 w_1 * x + w_2 * y + b로 나옴)"
      ]
    },
    {
      "cell_type": "markdown",
      "metadata": {
        "id": "nzy9xL_c8jAQ"
      },
      "source": [
        "**The forward pass function**"
      ]
    },
    {
      "cell_type": "code",
      "execution_count": 56,
      "metadata": {
        "id": "ggzHt4MF8jAR"
      },
      "outputs": [],
      "source": [
        "def model(inputs): # x 대입하면 Wx+b 주겠다는 말\n",
        "    return tf.matmul(inputs, W) + b"
      ]
    },
    {
      "cell_type": "markdown",
      "metadata": {
        "id": "RcufRuaz8jAR"
      },
      "source": [
        "**The mean squared error loss function**"
      ]
    },
    {
      "cell_type": "code",
      "execution_count": 57,
      "metadata": {
        "id": "pwUY1IOj8jAR"
      },
      "outputs": [],
      "source": [
        "def square_loss(targets, predictions):\n",
        "    per_sample_losses = tf.square(targets - predictions) # [(참값) - (예측치)]^2\n",
        "    return tf.reduce_mean(per_sample_losses)"
      ]
    },
    {
      "cell_type": "markdown",
      "metadata": {
        "id": "_-0nmH1i8jAR"
      },
      "source": [
        "**The training step function**"
      ]
    },
    {
      "cell_type": "code",
      "execution_count": 58,
      "metadata": {
        "id": "mT55GFR58jAS"
      },
      "outputs": [],
      "source": [
        "learning_rate = 0.1\n",
        "\n",
        "def training_step(inputs, targets):\n",
        "    with tf.GradientTape() as tape:\n",
        "        predictions = model(inputs) #model(inputs)은 윗윗칸에서 W * x + b로 정의함\n",
        "        loss = square_loss(targets, predictions) #square_loss는 바로 윗칸에서 [참값-예측치]^2로 정의함\n",
        "    grad_loss_wrt_W, grad_loss_wrt_b = tape.gradient(loss, [W, b]) #dl/dW와 dl/db의 값 순차적으로 계산\n",
        "    W.assign_sub(grad_loss_wrt_W * learning_rate) #dl/dW의 값에 0.1 (learning rate) 곱함\n",
        "    b.assign_sub(grad_loss_wrt_b * learning_rate) #dl/db의 값에 0.1 (learning rate) 곱함\n",
        "    return loss"
      ]
    },
    {
      "cell_type": "markdown",
      "metadata": {
        "id": "7itG-kSE8jAS"
      },
      "source": [
        "**The batch training loop**"
      ]
    },
    {
      "cell_type": "code",
      "execution_count": 59,
      "metadata": {
        "colab": {
          "base_uri": "https://localhost:8080/"
        },
        "id": "YGsFrus78jAS",
        "outputId": "eaa9e656-cb3d-495e-be9f-dec40a0bf582"
      },
      "outputs": [
        {
          "output_type": "stream",
          "name": "stdout",
          "text": [
            "Loss at step 0: 3.3718\n",
            "Loss at step 1: 0.4955\n",
            "Loss at step 2: 0.1812\n",
            "Loss at step 3: 0.1240\n",
            "Loss at step 4: 0.1083\n",
            "Loss at step 5: 0.0999\n",
            "Loss at step 6: 0.0931\n",
            "Loss at step 7: 0.0870\n",
            "Loss at step 8: 0.0816\n",
            "Loss at step 9: 0.0766\n",
            "Loss at step 10: 0.0720\n",
            "Loss at step 11: 0.0678\n",
            "Loss at step 12: 0.0640\n",
            "Loss at step 13: 0.0605\n",
            "Loss at step 14: 0.0574\n",
            "Loss at step 15: 0.0545\n",
            "Loss at step 16: 0.0519\n",
            "Loss at step 17: 0.0495\n",
            "Loss at step 18: 0.0473\n",
            "Loss at step 19: 0.0453\n",
            "Loss at step 20: 0.0434\n",
            "Loss at step 21: 0.0418\n",
            "Loss at step 22: 0.0403\n",
            "Loss at step 23: 0.0389\n",
            "Loss at step 24: 0.0376\n",
            "Loss at step 25: 0.0365\n",
            "Loss at step 26: 0.0354\n",
            "Loss at step 27: 0.0344\n",
            "Loss at step 28: 0.0336\n",
            "Loss at step 29: 0.0328\n",
            "Loss at step 30: 0.0320\n",
            "Loss at step 31: 0.0314\n",
            "Loss at step 32: 0.0308\n",
            "Loss at step 33: 0.0302\n",
            "Loss at step 34: 0.0297\n",
            "Loss at step 35: 0.0292\n",
            "Loss at step 36: 0.0288\n",
            "Loss at step 37: 0.0284\n",
            "Loss at step 38: 0.0281\n",
            "Loss at step 39: 0.0278\n"
          ]
        }
      ],
      "source": [
        "for step in range(40):\n",
        "    loss = training_step(inputs, targets) #Wx+b로 두고 loss 구하고 dl/dW, dl/db 구하고 0.1씩 곱하는 과정 과정 싹 다 포함\n",
        "    print(f\"Loss at step {step}: {loss:.4f}\") #스텝마다 loss의 값 계산 (점점 줄어듦이 보임)"
      ]
    },
    {
      "cell_type": "code",
      "execution_count": 60,
      "metadata": {
        "colab": {
          "base_uri": "https://localhost:8080/",
          "height": 430
        },
        "id": "nRbD6CMW8jAS",
        "outputId": "dd6bc69d-f07b-4670-cb12-081f37c7260c"
      },
      "outputs": [
        {
          "output_type": "display_data",
          "data": {
            "text/plain": [
              "<Figure size 640x480 with 1 Axes>"
            ],
            "image/png": "[encoded data removed]"
          },
          "metadata": {}
        }
      ],
      "source": [
        "predictions = model(inputs)\n",
        "plt.scatter(inputs[:, 0], inputs[:, 1], c=predictions[:, 0] > 0.5)\n",
        "plt.show()"
      ]
    },
    {
      "cell_type": "code",
      "execution_count": 61,
      "metadata": {
        "colab": {
          "base_uri": "https://localhost:8080/",
          "height": 448
        },
        "id": "uJbxAIBD8jAS",
        "outputId": "829d426d-ca16-4e54-b7c9-5bef21fcd078"
      },
      "outputs": [
        {
          "output_type": "execute_result",
          "data": {
            "text/plain": [
              "<matplotlib.collections.PathCollection at 0x7bee319c0750>"
            ]
          },
          "metadata": {},
          "execution_count": 61
        },
        {
          "output_type": "display_data",
          "data": {
            "text/plain": [
              "<Figure size 640x480 with 1 Axes>"
            ],
            "image/png": "[encoded data removed]"
          },
          "metadata": {}
        }
      ],
      "source": [
        "x = np.linspace(-1, 4, 100)\n",
        "y = - W[0] /  W[1] * x + (0.5 - b) / W[1] # W_1 * x + W_2 * y + b = 0.5를 y에 대해 정의한 것\n",
        "plt.plot(x, y, \"-r\") #빨간색 선 추가\n",
        "plt.scatter(inputs[:, 0], inputs[:, 1], c=predictions[:, 0] > 0.5)"
      ]
    },
    {
      "cell_type": "markdown",
      "metadata": {
        "id": "ZRIKIRZX8jAS"
      },
      "source": [
        "## Anatomy of a neural network: Understanding core Keras APIs"
      ]
    },
    {
      "cell_type": "markdown",
      "metadata": {
        "id": "bo2Rh47e8jAT"
      },
      "source": [
        "### Layers: The building blocks of deep learning"
      ]
    },
    {
      "cell_type": "markdown",
      "metadata": {
        "id": "RMsqRXvR8jAT"
      },
      "source": [
        "#### The base Layer class in Keras"
      ]
    },
    {
      "cell_type": "markdown",
      "metadata": {
        "id": "13dsfEu58jAT"
      },
      "source": [
        "**A `Dense` layer implemented as a `Layer` subclass**"
      ]
    },
    {
      "cell_type": "code",
      "execution_count": 62,
      "metadata": {
        "id": "uyCBVA6V8jAT"
      },
      "outputs": [],
      "source": [
        "from tensorflow import keras\n",
        "\n",
        "class SimpleDense(keras.layers.Layer):\n",
        "\n",
        "    def __init__(self, units, activation=None): #변수 지정, 여기서 units은 output 성분에 해당한다고 생각하면 편함\n",
        "        super().__init__()\n",
        "        self.units = units\n",
        "        self.activation = activation\n",
        "\n",
        "    def build(self, input_shape):\n",
        "        input_dim = input_shape[-1] #뒤에서 1등 (마지막 원소, 즉 0번에서 n번 인덱스까지 있다면 -1번 인덱스 = n번 인덱스)\n",
        "        self.W = self.add_weight(shape=(input_dim, self.units), # x가 1 * i 행렬이면 W는 i * j 행렬\n",
        "                                 initializer=\"random_normal\")\n",
        "        self.b = self.add_weight(shape=(self.units,), # x * W가 1 * j 행렬이므로 b도 j 행렬\n",
        "                                 initializer=\"zeros\") #편차는 0으로 고정\n",
        "\n",
        "    def call(self, inputs):\n",
        "        y = tf.matmul(inputs, self.W) + self.b # Wx+b를 의미\n",
        "        if self.activation is not None:\n",
        "            y = self.activation(y)\n",
        "        return y"
      ]
    },
    {
      "cell_type": "code",
      "execution_count": 63,
      "metadata": {
        "colab": {
          "base_uri": "https://localhost:8080/"
        },
        "id": "7dSGgS698jAT",
        "outputId": "f603f0cb-3065-4971-bd78-2395d9b008f5"
      },
      "outputs": [
        {
          "output_type": "stream",
          "name": "stdout",
          "text": [
            "(2, 32)\n"
          ]
        }
      ],
      "source": [
        "my_dense = SimpleDense(units=32, activation=tf.nn.relu) #32열짜리 결과가 나와야 함\n",
        "input_tensor = tf.ones(shape=(2, 784)) #2행 784열짜리 투입\n",
        "output_tensor = my_dense(input_tensor) #my_Dense는 SimpleDense(Units = 32)로 정의된 상태\n",
        "print(output_tensor.shape) #unit 32로 정하고 W * x + b (b=0이니 W * x로 봐도 됨)의 행렬 크기를 알려줌 W : (2*784(input_dim)) * x : (784(input_dim)*32) = 2행 32열"
      ]
    },
    {
      "cell_type": "markdown",
      "metadata": {
        "id": "Nz1NUC5L8jAU"
      },
      "source": [
        "#### Automatic shape inference: Building layers on the fly"
      ]
    },
    {
      "cell_type": "code",
      "execution_count": 64,
      "metadata": {
        "id": "4S42KZrH8jAU"
      },
      "outputs": [],
      "source": [
        "from tensorflow.keras import layers\n",
        "layer = layers.Dense(32, activation=\"relu\")"
      ]
    },
    {
      "cell_type": "code",
      "execution_count": 65,
      "metadata": {
        "id": "DsnhonP48jAU"
      },
      "outputs": [],
      "source": [
        "from tensorflow.keras import models\n",
        "from tensorflow.keras import layers\n",
        "model = models.Sequential([\n",
        "    layers.Dense(32, activation=\"relu\"),\n",
        "    layers.Dense(32)\n",
        "])"
      ]
    },
    {
      "cell_type": "code",
      "execution_count": 66,
      "metadata": {
        "id": "3xsbOjdG8jAU"
      },
      "outputs": [],
      "source": [
        "model = keras.Sequential([\n",
        "    SimpleDense(32, activation=\"relu\"),\n",
        "    SimpleDense(64, activation=\"relu\"),\n",
        "    SimpleDense(32, activation=\"relu\"),\n",
        "    SimpleDense(10, activation=\"softmax\")\n",
        "])\n",
        "#Ch.2에서 naive_Dense를 만들 때에는 input, Output이 얼마인지 모두 설정했으나, SimpleDense에서는 Units만 설정하여 원하는 Output값이 나오도록 input값 자동 조정"
      ]
    },
    {
      "cell_type": "markdown",
      "metadata": {
        "id": "DC2HKuT38jAU"
      },
      "source": [
        "### From layers to models"
      ]
    },
    {
      "cell_type": "markdown",
      "metadata": {
        "id": "Fl5lWb3e8jAU"
      },
      "source": [
        "### The \"compile\" step: Configuring the learning process"
      ]
    },
    {
      "cell_type": "code",
      "execution_count": 68,
      "metadata": {
        "id": "Qb1VzLX58jAV"
      },
      "outputs": [],
      "source": [
        "model = keras.Sequential([keras.layers.Dense(1)])\n",
        "model.compile(optimizer=\"rmsprop\",\n",
        "              loss=\"mean_squared_error\",\n",
        "              metrics=[\"accuracy\"])"
      ]
    },
    {
      "cell_type": "code",
      "execution_count": 69,
      "metadata": {
        "id": "GU_CcqWU8jAV"
      },
      "outputs": [],
      "source": [
        "model.compile(optimizer=keras.optimizers.RMSprop(),\n",
        "              loss=keras.losses.MeanSquaredError(),\n",
        "              metrics=[keras.metrics.BinaryAccuracy()])"
      ]
    },
    {
      "cell_type": "markdown",
      "metadata": {
        "id": "GNnjSAff8jAV"
      },
      "source": [
        "### Picking a loss function"
      ]
    },
    {
      "cell_type": "markdown",
      "metadata": {
        "id": "DFQ9BzKf8jAV"
      },
      "source": [
        "### Understanding the fit() method"
      ]
    },
    {
      "cell_type": "markdown",
      "metadata": {
        "id": "XVNZZv-w8jAV"
      },
      "source": [
        "**Calling `fit()` with NumPy data**"
      ]
    },
    {
      "cell_type": "code",
      "execution_count": 70,
      "metadata": {
        "colab": {
          "base_uri": "https://localhost:8080/"
        },
        "id": "pSKUXLOC8jAV",
        "outputId": "ff55fec3-dfe8-47ae-eb16-60a6c9d5c0b6"
      },
      "outputs": [
        {
          "output_type": "stream",
          "name": "stdout",
          "text": [
            "Epoch 1/5\n",
            "\u001b[1m16/16\u001b[0m \u001b[32m━━━━━━━━━━━━━━━━━━━━\u001b[0m\u001b[37m\u001b[0m \u001b[1m1s\u001b[0m 16ms/step - binary_accuracy: 0.1678 - loss: 2.7740\n",
            "Epoch 2/5\n",
            "\u001b[1m16/16\u001b[0m \u001b[32m━━━━━━━━━━━━━━━━━━━━\u001b[0m\u001b[37m\u001b[0m \u001b[1m1s\u001b[0m 3ms/step - binary_accuracy: 0.1664 - loss: 2.6718  \n",
            "Epoch 3/5\n",
            "\u001b[1m16/16\u001b[0m \u001b[32m━━━━━━━━━━━━━━━━━━━━\u001b[0m\u001b[37m\u001b[0m \u001b[1m0s\u001b[0m 4ms/step - binary_accuracy: 0.1783 - loss: 2.4714 \n",
            "Epoch 4/5\n",
            "\u001b[1m16/16\u001b[0m \u001b[32m━━━━━━━━━━━━━━━━━━━━\u001b[0m\u001b[37m\u001b[0m \u001b[1m0s\u001b[0m 3ms/step - binary_accuracy: 0.2063 - loss: 2.3010 \n",
            "Epoch 5/5\n",
            "\u001b[1m16/16\u001b[0m \u001b[32m━━━━━━━━━━━━━━━━━━━━\u001b[0m\u001b[37m\u001b[0m \u001b[1m0s\u001b[0m 3ms/step - binary_accuracy: 0.2056 - loss: 2.2201 \n"
          ]
        }
      ],
      "source": [
        "history = model.fit(\n",
        "    inputs,\n",
        "    targets,\n",
        "    epochs=5, #training loop 반복 횟수\n",
        "    batch_size=128\n",
        ")"
      ]
    },
    {
      "cell_type": "code",
      "execution_count": 71,
      "metadata": {
        "colab": {
          "base_uri": "https://localhost:8080/"
        },
        "id": "9dY_9Qei8jAW",
        "outputId": "787299e6-94bc-4c2b-b89d-b4592d26d4c7"
      },
      "outputs": [
        {
          "output_type": "execute_result",
          "data": {
            "text/plain": [
              "{'binary_accuracy': [0.15700000524520874,\n",
              "  0.17249999940395355,\n",
              "  0.18449999392032623,\n",
              "  0.19949999451637268,\n",
              "  0.21549999713897705],\n",
              " 'loss': [2.8121535778045654,\n",
              "  2.6149771213531494,\n",
              "  2.4518558979034424,\n",
              "  2.295766592025757,\n",
              "  2.1481940746307373]}"
            ]
          },
          "metadata": {},
          "execution_count": 71
        }
      ],
      "source": [
        "history.history"
      ]
    },
    {
      "cell_type": "markdown",
      "metadata": {
        "id": "tiK54gBV8jAW"
      },
      "source": [
        "### Monitoring loss and metrics on validation data"
      ]
    },
    {
      "cell_type": "markdown",
      "metadata": {
        "id": "EiJ2La8B8jAW"
      },
      "source": [
        "**Using the `validation_data` argument**"
      ]
    },
    {
      "cell_type": "code",
      "execution_count": 73,
      "metadata": {
        "colab": {
          "base_uri": "https://localhost:8080/"
        },
        "id": "MaUKsUdz8jAW",
        "outputId": "77014a30-bd03-4566-f200-01c5830bc52d"
      },
      "outputs": [
        {
          "output_type": "stream",
          "name": "stdout",
          "text": [
            "Epoch 1/5\n",
            "\u001b[1m88/88\u001b[0m \u001b[32m━━━━━━━━━━━━━━━━━━━━\u001b[0m\u001b[37m\u001b[0m \u001b[1m2s\u001b[0m 13ms/step - binary_accuracy: 0.8769 - loss: 0.2715 - val_binary_accuracy: 0.9833 - val_loss: 0.0798\n",
            "Epoch 2/5\n",
            "\u001b[1m88/88\u001b[0m \u001b[32m━━━━━━━━━━━━━━━━━━━━\u001b[0m\u001b[37m\u001b[0m \u001b[1m0s\u001b[0m 5ms/step - binary_accuracy: 0.9586 - loss: 0.0662 - val_binary_accuracy: 0.8233 - val_loss: 0.1847\n",
            "Epoch 3/5\n",
            "\u001b[1m88/88\u001b[0m \u001b[32m━━━━━━━━━━━━━━━━━━━━\u001b[0m\u001b[37m\u001b[0m \u001b[1m0s\u001b[0m 5ms/step - binary_accuracy: 0.9563 - loss: 0.0736 - val_binary_accuracy: 0.9267 - val_loss: 0.1017\n",
            "Epoch 4/5\n",
            "\u001b[1m88/88\u001b[0m \u001b[32m━━━━━━━━━━━━━━━━━━━━\u001b[0m\u001b[37m\u001b[0m \u001b[1m0s\u001b[0m 3ms/step - binary_accuracy: 0.9527 - loss: 0.0741 - val_binary_accuracy: 0.9950 - val_loss: 0.0249\n",
            "Epoch 5/5\n",
            "\u001b[1m88/88\u001b[0m \u001b[32m━━━━━━━━━━━━━━━━━━━━\u001b[0m\u001b[37m\u001b[0m \u001b[1m0s\u001b[0m 3ms/step - binary_accuracy: 0.9549 - loss: 0.0759 - val_binary_accuracy: 0.9950 - val_loss: 0.0414\n"
          ]
        },
        {
          "output_type": "execute_result",
          "data": {
            "text/plain": [
              "<keras.src.callbacks.history.History at 0x7bee319d34d0>"
            ]
          },
          "metadata": {},
          "execution_count": 73
        }
      ],
      "source": [
        "model = keras.Sequential([keras.layers.Dense(1)])\n",
        "model.compile(optimizer=keras.optimizers.RMSprop(learning_rate=0.1),\n",
        "              loss=keras.losses.MeanSquaredError(),\n",
        "              metrics=[keras.metrics.BinaryAccuracy()])\n",
        "\n",
        "indices_permutation = np.random.permutation(len(inputs))\n",
        "shuffled_inputs = inputs[indices_permutation]\n",
        "shuffled_targets = targets[indices_permutation]\n",
        "\n",
        "num_validation_samples = int(0.3 * len(inputs))\n",
        "val_inputs = shuffled_inputs[:num_validation_samples]\n",
        "val_targets = shuffled_targets[:num_validation_samples]\n",
        "training_inputs = shuffled_inputs[num_validation_samples:]\n",
        "training_targets = shuffled_targets[num_validation_samples:]\n",
        "model.fit(\n",
        "    training_inputs,\n",
        "    training_targets,\n",
        "    epochs=5,\n",
        "    batch_size=16,\n",
        "    validation_data=(val_inputs, val_targets)\n",
        ")"
      ]
    },
    {
      "cell_type": "markdown",
      "metadata": {
        "id": "gHw4isxn8jAX"
      },
      "source": [
        "### Inference: Using a model after training"
      ]
    },
    {
      "cell_type": "code",
      "execution_count": 74,
      "metadata": {
        "colab": {
          "base_uri": "https://localhost:8080/"
        },
        "id": "YhLKMj2G8jAX",
        "outputId": "5b761012-e8c1-4d1a-d2e7-d566a9b76254"
      },
      "outputs": [
        {
          "output_type": "stream",
          "name": "stdout",
          "text": [
            "\u001b[1m5/5\u001b[0m \u001b[32m━━━━━━━━━━━━━━━━━━━━\u001b[0m\u001b[37m\u001b[0m \u001b[1m0s\u001b[0m 22ms/step\n",
            "[[ 0.73080975]\n",
            " [ 0.79845166]\n",
            " [ 0.76275486]\n",
            " [-0.42493808]\n",
            " [-0.19289696]\n",
            " [-0.314506  ]\n",
            " [ 0.0793744 ]\n",
            " [-0.20194578]\n",
            " [ 0.8665691 ]\n",
            " [ 0.84856296]]\n"
          ]
        }
      ],
      "source": [
        "predictions = model.predict(val_inputs, batch_size=128) #batch_size를 설정해주어 조금씩 모든 데이터 검정하도록 함\n",
        "print(predictions[:10])"
      ]
    },
    {
      "cell_type": "markdown",
      "metadata": {
        "id": "KwO-2Lvr8jAX"
      },
      "source": [
        "## Summary"
      ]
    }
  ],
  "metadata": {
    "colab": {
      "name": "chapter03_introduction-to-keras-and-tf.i",
      "provenance": [],
      "toc_visible": true,
      "gpuType": "T4"
    },
    "kernelspec": {
      "display_name": "Python 3",
      "name": "python3"
    },
    "language_info": {
      "codemirror_mode": {
        "name": "ipython",
        "version": 3
      },
      "file_extension": ".py",
      "mimetype": "text/x-python",
      "name": "python",
      "nbconvert_exporter": "python",
      "pygments_lexer": "ipython3",
      "version": "3.7.0"
    },
    "accelerator": "GPU"
  },
  "nbformat": 4,
  "nbformat_minor": 0
}