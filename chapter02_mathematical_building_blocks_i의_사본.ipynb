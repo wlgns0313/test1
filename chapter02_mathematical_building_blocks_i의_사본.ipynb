{
  "cells": [
    {
      "cell_type": "markdown",
      "metadata": {
        "id": "view-in-github",
        "colab_type": "text"
      },
      "source": [
        "<a href=\"https://colab.research.google.com/github/wlgns0313/test1/blob/main/chapter02_mathematical_building_blocks_i%EC%9D%98_%EC%82%AC%EB%B3%B8.ipynb\" target=\"_parent\"><img src=\"https://colab.research.google.com/assets/colab-badge.svg\" alt=\"Open In Colab\"/></a>"
      ]
    },
    {
      "cell_type": "markdown",
      "metadata": {
        "id": "kMcRGqbJgcxt"
      },
      "source": [
        "This is a companion notebook for the book [Deep Learning with Python, Second Edition](https://www.manning.com/books/deep-learning-with-python-second-edition?a_aid=keras&a_bid=76564dff). For readability, it only contains runnable code blocks and section titles, and omits everything else in the book: text paragraphs, figures, and pseudocode.\n",
        "\n",
        "**If you want to be able to follow what's going on, I recommend reading the notebook side by side with your copy of the book.**\n",
        "\n",
        "This notebook was generated for TensorFlow 2.6."
      ]
    },
    {
      "cell_type": "markdown",
      "metadata": {
        "id": "k7OZproZgcxv"
      },
      "source": [
        "# The mathematical building blocks of neural networks"
      ]
    },
    {
      "cell_type": "markdown",
      "metadata": {
        "id": "yeB81nsfgcxw"
      },
      "source": [
        "## A first look at a neural network"
      ]
    },
    {
      "cell_type": "markdown",
      "metadata": {
        "id": "3LAonavggcxw"
      },
      "source": [
        "**Loading the MNIST dataset in Keras**"
      ]
    },
    {
      "cell_type": "code",
      "execution_count": null,
      "metadata": {
        "id": "1cy_hU9Kgcxw",
        "colab": {
          "base_uri": "https://localhost:8080/"
        },
        "outputId": "6e2cf484-6f91-4fa9-d4ed-e4579096cca6"
      },
      "outputs": [
        {
          "output_type": "stream",
          "name": "stdout",
          "text": [
            "Downloading data from https://storage.googleapis.com/tensorflow/tf-keras-datasets/mnist.npz\n",
            "\u001b[1m11490434/11490434\u001b[0m \u001b[32m━━━━━━━━━━━━━━━━━━━━\u001b[0m\u001b[37m\u001b[0m \u001b[1m0s\u001b[0m 0us/step\n"
          ]
        }
      ],
      "source": [
        "from tensorflow.keras.datasets import mnist\n",
        "(train_images, train_labels), (test_images, test_labels) = mnist.load_data()\n",
        "#2번째 줄 코드 예시 : (x_train, y_train), (x_test, y_test) = keras.datasets.mnist.load_data()"
      ]
    },
    {
      "cell_type": "code",
      "source": [
        "mnist\n",
        "#mnist.load_data?와 같이 코드 뒤에 ?를 붙이면 설명서 출력"
      ],
      "metadata": {
        "id": "ksNEGKO8lnRQ",
        "colab": {
          "base_uri": "https://localhost:8080/"
        },
        "outputId": "9230ad3d-c790-4a93-abb6-94a1c5091fd9"
      },
      "execution_count": null,
      "outputs": [
        {
          "output_type": "execute_result",
          "data": {
            "text/plain": [
              "<module 'keras.api.datasets.mnist' from '/usr/local/lib/python3.11/dist-packages/keras/api/datasets/mnist/__init__.py'>"
            ]
          },
          "metadata": {},
          "execution_count": 179
        }
      ]
    },
    {
      "cell_type": "code",
      "execution_count": null,
      "metadata": {
        "id": "4AIV1yI8gcxx",
        "outputId": "4edb9b7e-9e99-4d9d-be88-8039c46bac0f",
        "colab": {
          "base_uri": "https://localhost:8080/"
        }
      },
      "outputs": [
        {
          "output_type": "execute_result",
          "data": {
            "text/plain": [
              "(60000, 28, 28)"
            ]
          },
          "metadata": {},
          "execution_count": 180
        }
      ],
      "source": [
        "train_images.shape\n",
        "#shape : 모습 출력"
      ]
    },
    {
      "cell_type": "code",
      "source": [
        "train_images[0]\n",
        "# train_images에 60000개의 28x28(Pixel) 그림이 존재"
      ],
      "metadata": {
        "colab": {
          "base_uri": "https://localhost:8080/",
          "height": 67
        },
        "id": "NUIVawfwL1UQ",
        "outputId": "128ad600-25b7-4263-e268-52b3128655b9"
      },
      "execution_count": null,
      "outputs": [
        {
          "output_type": "execute_result",
          "data": {
            "text/plain": [
              "array([[  0,   0,   0,   0,   0,   0,   0,   0,   0,   0,   0,   0,   0,\n",
              "          0,   0,   0,   0,   0,   0,   0,   0,   0,   0,   0,   0,   0,\n",
              "          0,   0],\n",
              "       [  0,   0,   0,   0,   0,   0,   0,   0,   0,   0,   0,   0,   0,\n",
              "          0,   0,   0,   0,   0,   0,   0,   0,   0,   0,   0,   0,   0,\n",
              "          0,   0],\n",
              "       [  0,   0,   0,   0,   0,   0,   0,   0,   0,   0,   0,   0,   0,\n",
              "          0,   0,   0,   0,   0,   0,   0,   0,   0,   0,   0,   0,   0,\n",
              "          0,   0],\n",
              "       [  0,   0,   0,   0,   0,   0,   0,   0,   0,   0,   0,   0,   0,\n",
              "          0,   0,   0,   0,   0,   0,   0,   0,   0,   0,   0,   0,   0,\n",
              "          0,   0],\n",
              "       [  0,   0,   0,   0,   0,   0,   0,   0,   0,   0,   0,   0,   0,\n",
              "          0,   0,   0,   0,   0,   0,   0,   0,   0,   0,   0,   0,   0,\n",
              "          0,   0],\n",
              "       [  0,   0,   0,   0,   0,   0,   0,   0,   0,   0,   0,   0,   3,\n",
              "         18,  18,  18, 126, 136, 175,  26, 166, 255, 247, 127,   0,   0,\n",
              "          0,   0],\n",
              "       [  0,   0,   0,   0,   0,   0,   0,   0,  30,  36,  94, 154, 170,\n",
              "        253, 253, 253, 253, 253, 225, 172, 253, 242, 195,  64,   0,   0,\n",
              "          0,   0],\n",
              "       [  0,   0,   0,   0,   0,   0,   0,  49, 238, 253, 253, 253, 253,\n",
              "        253, 253, 253, 253, 251,  93,  82,  82,  56,  39,   0,   0,   0,\n",
              "          0,   0],\n",
              "       [  0,   0,   0,   0,   0,   0,   0,  18, 219, 253, 253, 253, 253,\n",
              "        253, 198, 182, 247, 241,   0,   0,   0,   0,   0,   0,   0,   0,\n",
              "          0,   0],\n",
              "       [  0,   0,   0,   0,   0,   0,   0,   0,  80, 156, 107, 253, 253,\n",
              "        205,  11,   0,  43, 154,   0,   0,   0,   0,   0,   0,   0,   0,\n",
              "          0,   0],\n",
              "       [  0,   0,   0,   0,   0,   0,   0,   0,   0,  14,   1, 154, 253,\n",
              "         90,   0,   0,   0,   0,   0,   0,   0,   0,   0,   0,   0,   0,\n",
              "          0,   0],\n",
              "       [  0,   0,   0,   0,   0,   0,   0,   0,   0,   0,   0, 139, 253,\n",
              "        190,   2,   0,   0,   0,   0,   0,   0,   0,   0,   0,   0,   0,\n",
              "          0,   0],\n",
              "       [  0,   0,   0,   0,   0,   0,   0,   0,   0,   0,   0,  11, 190,\n",
              "        253,  70,   0,   0,   0,   0,   0,   0,   0,   0,   0,   0,   0,\n",
              "          0,   0],\n",
              "       [  0,   0,   0,   0,   0,   0,   0,   0,   0,   0,   0,   0,  35,\n",
              "        241, 225, 160, 108,   1,   0,   0,   0,   0,   0,   0,   0,   0,\n",
              "          0,   0],\n",
              "       [  0,   0,   0,   0,   0,   0,   0,   0,   0,   0,   0,   0,   0,\n",
              "         81, 240, 253, 253, 119,  25,   0,   0,   0,   0,   0,   0,   0,\n",
              "          0,   0],\n",
              "       [  0,   0,   0,   0,   0,   0,   0,   0,   0,   0,   0,   0,   0,\n",
              "          0,  45, 186, 253, 253, 150,  27,   0,   0,   0,   0,   0,   0,\n",
              "          0,   0],\n",
              "       [  0,   0,   0,   0,   0,   0,   0,   0,   0,   0,   0,   0,   0,\n",
              "          0,   0,  16,  93, 252, 253, 187,   0,   0,   0,   0,   0,   0,\n",
              "          0,   0],\n",
              "       [  0,   0,   0,   0,   0,   0,   0,   0,   0,   0,   0,   0,   0,\n",
              "          0,   0,   0,   0, 249, 253, 249,  64,   0,   0,   0,   0,   0,\n",
              "          0,   0],\n",
              "       [  0,   0,   0,   0,   0,   0,   0,   0,   0,   0,   0,   0,   0,\n",
              "          0,  46, 130, 183, 253, 253, 207,   2,   0,   0,   0,   0,   0,\n",
              "          0,   0],\n",
              "       [  0,   0,   0,   0,   0,   0,   0,   0,   0,   0,   0,   0,  39,\n",
              "        148, 229, 253, 253, 253, 250, 182,   0,   0,   0,   0,   0,   0,\n",
              "          0,   0],\n",
              "       [  0,   0,   0,   0,   0,   0,   0,   0,   0,   0,  24, 114, 221,\n",
              "        253, 253, 253, 253, 201,  78,   0,   0,   0,   0,   0,   0,   0,\n",
              "          0,   0],\n",
              "       [  0,   0,   0,   0,   0,   0,   0,   0,  23,  66, 213, 253, 253,\n",
              "        253, 253, 198,  81,   2,   0,   0,   0,   0,   0,   0,   0,   0,\n",
              "          0,   0],\n",
              "       [  0,   0,   0,   0,   0,   0,  18, 171, 219, 253, 253, 253, 253,\n",
              "        195,  80,   9,   0,   0,   0,   0,   0,   0,   0,   0,   0,   0,\n",
              "          0,   0],\n",
              "       [  0,   0,   0,   0,  55, 172, 226, 253, 253, 253, 253, 244, 133,\n",
              "         11,   0,   0,   0,   0,   0,   0,   0,   0,   0,   0,   0,   0,\n",
              "          0,   0],\n",
              "       [  0,   0,   0,   0, 136, 253, 253, 253, 212, 135, 132,  16,   0,\n",
              "          0,   0,   0,   0,   0,   0,   0,   0,   0,   0,   0,   0,   0,\n",
              "          0,   0],\n",
              "       [  0,   0,   0,   0,   0,   0,   0,   0,   0,   0,   0,   0,   0,\n",
              "          0,   0,   0,   0,   0,   0,   0,   0,   0,   0,   0,   0,   0,\n",
              "          0,   0],\n",
              "       [  0,   0,   0,   0,   0,   0,   0,   0,   0,   0,   0,   0,   0,\n",
              "          0,   0,   0,   0,   0,   0,   0,   0,   0,   0,   0,   0,   0,\n",
              "          0,   0],\n",
              "       [  0,   0,   0,   0,   0,   0,   0,   0,   0,   0,   0,   0,   0,\n",
              "          0,   0,   0,   0,   0,   0,   0,   0,   0,   0,   0,   0,   0,\n",
              "          0,   0]], dtype=uint8)"
            ],
            "text/html": [
              "<style>\n",
              "      .ndarray_repr .ndarray_raw_data {\n",
              "        display: none;\n",
              "      }\n",
              "      .ndarray_repr.show_array .ndarray_raw_data {\n",
              "        display: block;\n",
              "      }\n",
              "      .ndarray_repr.show_array .ndarray_image_preview {\n",
              "        display: none;\n",
              "      }\n",
              "      </style>\n",
              "      <div id=\"id-8647c119-8fb9-44f1-a08a-9d00170f4682\" class=\"ndarray_repr\"><pre>ndarray (28, 28) <button style=\"padding: 0 2px;\">show data</button></pre><img src=\"data:image/png;base64,iVBORw0KGgoAAAANSUhEUgAAABwAAAAcCAAAAABXZoBIAAABAElEQVR4nGNgGMyAWUhIqK5jvdSy/9/rGRgYGFhgEnJsVjYCwQwMDAxPJgV+vniQgYGBgREqZ7iXH8r6l/SV4dn7m8gmCt3++/fv37/Htn3/iMW+gDnZf/+e5WbQnoXNNXyMs/5GoQoxwVmf/n9kSGFiwAW49/11wynJoPzx4YIcRlyygR/+/i2XxCWru+vv32nSuGQFYv/83Y3b4p9/fzpAmSyoMnohpiwM1w5h06Q+5enfv39/bcMiJVF09+/fv39P+mFKiTtd/fv3799jgZiBJLT69t+/f/8eDuDEkDJf8+jv379/v7Ryo4qzMDAwMAQGMjBc3/y35wM2V1IfAABFF16Aa0wAOwAAAABJRU5ErkJggg==\" class=\"ndarray_image_preview\" /><pre class=\"ndarray_raw_data\">array([[  0,   0,   0,   0,   0,   0,   0,   0,   0,   0,   0,   0,   0,\n",
              "          0,   0,   0,   0,   0,   0,   0,   0,   0,   0,   0,   0,   0,\n",
              "          0,   0],\n",
              "       [  0,   0,   0,   0,   0,   0,   0,   0,   0,   0,   0,   0,   0,\n",
              "          0,   0,   0,   0,   0,   0,   0,   0,   0,   0,   0,   0,   0,\n",
              "          0,   0],\n",
              "       [  0,   0,   0,   0,   0,   0,   0,   0,   0,   0,   0,   0,   0,\n",
              "          0,   0,   0,   0,   0,   0,   0,   0,   0,   0,   0,   0,   0,\n",
              "          0,   0],\n",
              "       [  0,   0,   0,   0,   0,   0,   0,   0,   0,   0,   0,   0,   0,\n",
              "          0,   0,   0,   0,   0,   0,   0,   0,   0,   0,   0,   0,   0,\n",
              "          0,   0],\n",
              "       [  0,   0,   0,   0,   0,   0,   0,   0,   0,   0,   0,   0,   0,\n",
              "          0,   0,   0,   0,   0,   0,   0,   0,   0,   0,   0,   0,   0,\n",
              "          0,   0],\n",
              "       [  0,   0,   0,   0,   0,   0,   0,   0,   0,   0,   0,   0,   3,\n",
              "         18,  18,  18, 126, 136, 175,  26, 166, 255, 247, 127,   0,   0,\n",
              "          0,   0],\n",
              "       [  0,   0,   0,   0,   0,   0,   0,   0,  30,  36,  94, 154, 170,\n",
              "        253, 253, 253, 253, 253, 225, 172, 253, 242, 195,  64,   0,   0,\n",
              "          0,   0],\n",
              "       [  0,   0,   0,   0,   0,   0,   0,  49, 238, 253, 253, 253, 253,\n",
              "        253, 253, 253, 253, 251,  93,  82,  82,  56,  39,   0,   0,   0,\n",
              "          0,   0],\n",
              "       [  0,   0,   0,   0,   0,   0,   0,  18, 219, 253, 253, 253, 253,\n",
              "        253, 198, 182, 247, 241,   0,   0,   0,   0,   0,   0,   0,   0,\n",
              "          0,   0],\n",
              "       [  0,   0,   0,   0,   0,   0,   0,   0,  80, 156, 107, 253, 253,\n",
              "        205,  11,   0,  43, 154,   0,   0,   0,   0,   0,   0,   0,   0,\n",
              "          0,   0],\n",
              "       [  0,   0,   0,   0,   0,   0,   0,   0,   0,  14,   1, 154, 253,\n",
              "         90,   0,   0,   0,   0,   0,   0,   0,   0,   0,   0,   0,   0,\n",
              "          0,   0],\n",
              "       [  0,   0,   0,   0,   0,   0,   0,   0,   0,   0,   0, 139, 253,\n",
              "        190,   2,   0,   0,   0,   0,   0,   0,   0,   0,   0,   0,   0,\n",
              "          0,   0],\n",
              "       [  0,   0,   0,   0,   0,   0,   0,   0,   0,   0,   0,  11, 190,\n",
              "        253,  70,   0,   0,   0,   0,   0,   0,   0,   0,   0,   0,   0,\n",
              "          0,   0],\n",
              "       [  0,   0,   0,   0,   0,   0,   0,   0,   0,   0,   0,   0,  35,\n",
              "        241, 225, 160, 108,   1,   0,   0,   0,   0,   0,   0,   0,   0,\n",
              "          0,   0],\n",
              "       [  0,   0,   0,   0,   0,   0,   0,   0,   0,   0,   0,   0,   0,\n",
              "         81, 240, 253, 253, 119,  25,   0,   0,   0,   0,   0,   0,   0,\n",
              "          0,   0],\n",
              "       [  0,   0,   0,   0,   0,   0,   0,   0,   0,   0,   0,   0,   0,\n",
              "          0,  45, 186, 253, 253, 150,  27,   0,   0,   0,   0,   0,   0,\n",
              "          0,   0],\n",
              "       [  0,   0,   0,   0,   0,   0,   0,   0,   0,   0,   0,   0,   0,\n",
              "          0,   0,  16,  93, 252, 253, 187,   0,   0,   0,   0,   0,   0,\n",
              "          0,   0],\n",
              "       [  0,   0,   0,   0,   0,   0,   0,   0,   0,   0,   0,   0,   0,\n",
              "          0,   0,   0,   0, 249, 253, 249,  64,   0,   0,   0,   0,   0,\n",
              "          0,   0],\n",
              "       [  0,   0,   0,   0,   0,   0,   0,   0,   0,   0,   0,   0,   0,\n",
              "          0,  46, 130, 183, 253, 253, 207,   2,   0,   0,   0,   0,   0,\n",
              "          0,   0],\n",
              "       [  0,   0,   0,   0,   0,   0,   0,   0,   0,   0,   0,   0,  39,\n",
              "        148, 229, 253, 253, 253, 250, 182,   0,   0,   0,   0,   0,   0,\n",
              "          0,   0],\n",
              "       [  0,   0,   0,   0,   0,   0,   0,   0,   0,   0,  24, 114, 221,\n",
              "        253, 253, 253, 253, 201,  78,   0,   0,   0,   0,   0,   0,   0,\n",
              "          0,   0],\n",
              "       [  0,   0,   0,   0,   0,   0,   0,   0,  23,  66, 213, 253, 253,\n",
              "        253, 253, 198,  81,   2,   0,   0,   0,   0,   0,   0,   0,   0,\n",
              "          0,   0],\n",
              "       [  0,   0,   0,   0,   0,   0,  18, 171, 219, 253, 253, 253, 253,\n",
              "        195,  80,   9,   0,   0,   0,   0,   0,   0,   0,   0,   0,   0,\n",
              "          0,   0],\n",
              "       [  0,   0,   0,   0,  55, 172, 226, 253, 253, 253, 253, 244, 133,\n",
              "         11,   0,   0,   0,   0,   0,   0,   0,   0,   0,   0,   0,   0,\n",
              "          0,   0],\n",
              "       [  0,   0,   0,   0, 136, 253, 253, 253, 212, 135, 132,  16,   0,\n",
              "          0,   0,   0,   0,   0,   0,   0,   0,   0,   0,   0,   0,   0,\n",
              "          0,   0],\n",
              "       [  0,   0,   0,   0,   0,   0,   0,   0,   0,   0,   0,   0,   0,\n",
              "          0,   0,   0,   0,   0,   0,   0,   0,   0,   0,   0,   0,   0,\n",
              "          0,   0],\n",
              "       [  0,   0,   0,   0,   0,   0,   0,   0,   0,   0,   0,   0,   0,\n",
              "          0,   0,   0,   0,   0,   0,   0,   0,   0,   0,   0,   0,   0,\n",
              "          0,   0],\n",
              "       [  0,   0,   0,   0,   0,   0,   0,   0,   0,   0,   0,   0,   0,\n",
              "          0,   0,   0,   0,   0,   0,   0,   0,   0,   0,   0,   0,   0,\n",
              "          0,   0]], dtype=uint8)</pre></div><script>\n",
              "      (() => {\n",
              "      const titles = ['show data', 'hide data'];\n",
              "      let index = 0\n",
              "      document.querySelector('#id-8647c119-8fb9-44f1-a08a-9d00170f4682 button').onclick = (e) => {\n",
              "        document.querySelector('#id-8647c119-8fb9-44f1-a08a-9d00170f4682').classList.toggle('show_array');\n",
              "        index = (++index) % 2;\n",
              "        document.querySelector('#id-8647c119-8fb9-44f1-a08a-9d00170f4682 button').textContent = titles[index];\n",
              "        e.preventDefault();\n",
              "        e.stopPropagation();\n",
              "      }\n",
              "      })();\n",
              "    </script>"
            ]
          },
          "metadata": {},
          "execution_count": 187
        }
      ]
    },
    {
      "cell_type": "code",
      "execution_count": null,
      "metadata": {
        "id": "e6e5lqFFgcxy",
        "outputId": "6ea6b2b9-ef72-47ba-a2be-7824b8178fe4",
        "colab": {
          "base_uri": "https://localhost:8080/"
        }
      },
      "outputs": [
        {
          "output_type": "execute_result",
          "data": {
            "text/plain": [
              "60000"
            ]
          },
          "metadata": {},
          "execution_count": 5
        }
      ],
      "source": [
        "len(train_labels) #len 함수 : 리스트의 크기 (원소의 개수) 알려줌"
      ]
    },
    {
      "cell_type": "code",
      "execution_count": null,
      "metadata": {
        "id": "OciI7F5kgcxy",
        "outputId": "09c52940-018e-42df-bc33-9cb3ef5b2c33",
        "colab": {
          "base_uri": "https://localhost:8080/"
        }
      },
      "outputs": [
        {
          "output_type": "execute_result",
          "data": {
            "text/plain": [
              "array([5, 0, 4, ..., 5, 6, 8], dtype=uint8)"
            ]
          },
          "metadata": {},
          "execution_count": 6
        }
      ],
      "source": [
        "train_labels"
      ]
    },
    {
      "cell_type": "code",
      "execution_count": null,
      "metadata": {
        "id": "bP9v75r1gcxy",
        "outputId": "2b0aea42-2e55-4e37-bbc1-d122e1f2ab6a",
        "colab": {
          "base_uri": "https://localhost:8080/"
        }
      },
      "outputs": [
        {
          "output_type": "execute_result",
          "data": {
            "text/plain": [
              "(10000, 28, 28)"
            ]
          },
          "metadata": {},
          "execution_count": 29
        }
      ],
      "source": [
        "test_images.shape"
      ]
    },
    {
      "cell_type": "code",
      "execution_count": null,
      "metadata": {
        "id": "znQ3dUuQgcxz",
        "outputId": "d6c075f8-3275-47d0-e12d-d56eaf1c605e",
        "colab": {
          "base_uri": "https://localhost:8080/"
        }
      },
      "outputs": [
        {
          "output_type": "execute_result",
          "data": {
            "text/plain": [
              "10000"
            ]
          },
          "metadata": {},
          "execution_count": 10
        }
      ],
      "source": [
        "len(test_labels)"
      ]
    },
    {
      "cell_type": "code",
      "execution_count": null,
      "metadata": {
        "id": "Clvia4tXgcxz",
        "outputId": "4e0f1378-a4c0-47b6-d898-b5dc45739165",
        "colab": {
          "base_uri": "https://localhost:8080/"
        }
      },
      "outputs": [
        {
          "output_type": "execute_result",
          "data": {
            "text/plain": [
              "array([7, 2, 1, ..., 4, 5, 6], dtype=uint8)"
            ]
          },
          "metadata": {},
          "execution_count": 11
        }
      ],
      "source": [
        "test_labels"
      ]
    },
    {
      "cell_type": "markdown",
      "metadata": {
        "id": "3TS2AgJVgcxz"
      },
      "source": [
        "**The network architecture**"
      ]
    },
    {
      "cell_type": "code",
      "execution_count": null,
      "metadata": {
        "id": "cxi9evBqgcx0"
      },
      "outputs": [],
      "source": [
        "from tensorflow import keras #keras 정의\n",
        "from tensorflow.keras import layers #layers 정의\n",
        "model = keras.Sequential([\n",
        "    layers.Dense(512, activation=\"relu\"),\n",
        "    layers.Dense(10, activation=\"softmax\")\n",
        "])\n",
        "#크기 784(28x28짜리 데이터) -> relu : 1st layer -> 크기 512짜리 데이터 -> softmax : 2nd layer -> 크기 10짜리 데이터\n",
        "\n",
        "#가중치 : w_1 = 512x784 -> x_1(784x1 데이터)에 곱해져 512짜리 데이터로 변환 (행렬 곱으로 인해 512x784 X 784x1 = 512x1) / b1 = 512x1 (Bias : 편차)\n",
        "#가중치 : w_2 = 10x512 -> w_1x_1+b_1 (512x1 데이터)에 곱해져 10x1짜리 데이터로 변환 / b2 = 10x1 (Bias : 편차)\n",
        "\n",
        "#최종목표 : w_1 b_1 / w_2 b_2를 계속 바꿔가며(Optimizer을 통한 값 조정) 실험 -> True Target과의 차이를 최대한으로 좁힘\n",
        "#loss function : layer 2개 거친 후 true target과 데이터와의 차이 (w_1 b_1 / w_2 b_2와 연관)"
      ]
    },
    {
      "cell_type": "code",
      "execution_count": null,
      "metadata": {
        "id": "7zDyZ3WSgcx0"
      },
      "outputs": [],
      "source": [
        "model.compile(optimizer=\"rmsprop\",\n",
        "              loss=\"sparse_categorical_crossentropy\",\n",
        "              metrics=[\"accuracy\"])\n",
        "#model.compilie(optimizer, loss, metrics)\n",
        "#optimzer : 결과를 바탕으로 w값 b값 바꿈\n",
        "#loss : True Target과의 차이"
      ]
    },
    {
      "cell_type": "code",
      "execution_count": null,
      "metadata": {
        "id": "s_kGwB03gcx1"
      },
      "outputs": [],
      "source": [
        "train_images = train_images.reshape((60000, 28 * 28))\n",
        "train_images = train_images.astype(\"float32\") / 255\n",
        "test_images = test_images.reshape((10000, 28 * 28))\n",
        "test_images = test_images.astype(\"float32\") / 255\n",
        "#reshape을 통해 크기를 784x1로 바꿈\n",
        "#astype.()/255 (정규화, normalize) 을 하는 이유 : 정확도를 늘리기 위해서 -> 2번째 4번째 열 실행 안 하고 코드를 실행할 경우 loss의 값이 대폭 상승"
      ]
    },
    {
      "cell_type": "code",
      "source": [
        "train_images.shape\n",
        "#위에서는 (60000, 28x28)이었으나 reshape 함수를 통해 28*28=784 크기로 바꿈 (함수 돌리려면 차원 맞춰야 함 ㅠ)"
      ],
      "metadata": {
        "colab": {
          "base_uri": "https://localhost:8080/"
        },
        "id": "CwCC9qDbPVwL",
        "outputId": "88ae7b33-d1bc-44f9-d42c-5ac5f9522562"
      },
      "execution_count": null,
      "outputs": [
        {
          "output_type": "execute_result",
          "data": {
            "text/plain": [
              "(60000, 784)"
            ]
          },
          "metadata": {},
          "execution_count": 27
        }
      ]
    },
    {
      "cell_type": "markdown",
      "metadata": {
        "id": "lCLXEqrKgcx1"
      },
      "source": [
        "**\"Fitting\" the model**"
      ]
    },
    {
      "cell_type": "code",
      "execution_count": null,
      "metadata": {
        "id": "elkQtB4tgcx1",
        "outputId": "419f3047-dba8-4598-9453-e9d9fc8911af",
        "colab": {
          "base_uri": "https://localhost:8080/"
        }
      },
      "outputs": [
        {
          "output_type": "stream",
          "name": "stdout",
          "text": [
            "Epoch 1/5\n",
            "\u001b[1m600/600\u001b[0m \u001b[32m━━━━━━━━━━━━━━━━━━━━\u001b[0m\u001b[37m\u001b[0m \u001b[1m3s\u001b[0m 2ms/step - accuracy: 0.8828 - loss: 0.4039\n",
            "Epoch 2/5\n",
            "\u001b[1m600/600\u001b[0m \u001b[32m━━━━━━━━━━━━━━━━━━━━\u001b[0m\u001b[37m\u001b[0m \u001b[1m1s\u001b[0m 2ms/step - accuracy: 0.9684 - loss: 0.1081\n",
            "Epoch 3/5\n",
            "\u001b[1m600/600\u001b[0m \u001b[32m━━━━━━━━━━━━━━━━━━━━\u001b[0m\u001b[37m\u001b[0m \u001b[1m3s\u001b[0m 3ms/step - accuracy: 0.9799 - loss: 0.0645\n",
            "Epoch 4/5\n",
            "\u001b[1m600/600\u001b[0m \u001b[32m━━━━━━━━━━━━━━━━━━━━\u001b[0m\u001b[37m\u001b[0m \u001b[1m2s\u001b[0m 2ms/step - accuracy: 0.9857 - loss: 0.0468\n",
            "Epoch 5/5\n",
            "\u001b[1m600/600\u001b[0m \u001b[32m━━━━━━━━━━━━━━━━━━━━\u001b[0m\u001b[37m\u001b[0m \u001b[1m1s\u001b[0m 2ms/step - accuracy: 0.9890 - loss: 0.0344\n"
          ]
        },
        {
          "output_type": "execute_result",
          "data": {
            "text/plain": [
              "<keras.src.callbacks.history.History at 0x7abb54a5fc10>"
            ]
          },
          "metadata": {},
          "execution_count": 28
        }
      ],
      "source": [
        "model.fit(train_images, train_labels, epochs=5, batch_size=100)\n",
        "#데이터 개수는 60,000개 있으므로 batch_size(묶음 개수)를 128로 하면 약 469묶음 100으로 하면 600묶음 발생\n",
        "#epoch : layer 2개 거치고 optimize까지 한 횟수 (한 바퀴 돌린 횟수)\n",
        "#batch size는 선호되는 범위는 있으나 보통 취향 차이"
      ]
    },
    {
      "cell_type": "markdown",
      "metadata": {
        "id": "LI4b-PRSgcx2"
      },
      "source": [
        "**Using the model to make predictions**"
      ]
    },
    {
      "cell_type": "code",
      "source": [
        "test_images.shape\n",
        "#마찬가지로 (10000, 28, 28) 데이터를 위에서 reshape을 통해 (10000, 28*28)로 바꿈 (함수 돌리려면 차원 맞춰야 함 ㅠ)"
      ],
      "metadata": {
        "colab": {
          "base_uri": "https://localhost:8080/"
        },
        "id": "9RLHXGIWQbiB",
        "outputId": "01556aa3-4718-4ac4-c30e-3d6b65126592"
      },
      "execution_count": null,
      "outputs": [
        {
          "output_type": "execute_result",
          "data": {
            "text/plain": [
              "(10000, 784)"
            ]
          },
          "metadata": {},
          "execution_count": 12
        }
      ]
    },
    {
      "cell_type": "code",
      "execution_count": null,
      "metadata": {
        "id": "j27yaqRzgcx2",
        "outputId": "57e30cfc-fefb-4f17-e052-e17727375f52",
        "colab": {
          "base_uri": "https://localhost:8080/"
        }
      },
      "outputs": [
        {
          "output_type": "stream",
          "name": "stdout",
          "text": [
            "\u001b[1m1/1\u001b[0m \u001b[32m━━━━━━━━━━━━━━━━━━━━\u001b[0m\u001b[37m\u001b[0m \u001b[1m0s\u001b[0m 284ms/step\n"
          ]
        },
        {
          "output_type": "execute_result",
          "data": {
            "text/plain": [
              "array([2.7488347e-09, 1.0398790e-09, 4.8532564e-07, 2.1157872e-05,\n",
              "       1.8544079e-12, 2.5891894e-10, 1.6399916e-14, 9.9997783e-01,\n",
              "       7.6218649e-09, 4.6673844e-07], dtype=float32)"
            ]
          },
          "metadata": {},
          "execution_count": 13
        }
      ],
      "source": [
        "test_digits = test_images[0:10]\n",
        "predictions = model.predict(test_digits)\n",
        "predictions[0]"
      ]
    },
    {
      "cell_type": "code",
      "execution_count": null,
      "metadata": {
        "id": "DE1Z2-iDgcx2",
        "outputId": "294798fe-ac09-463c-ab72-0f1fdcc59e39",
        "colab": {
          "base_uri": "https://localhost:8080/"
        }
      },
      "outputs": [
        {
          "output_type": "execute_result",
          "data": {
            "text/plain": [
              "7"
            ]
          },
          "metadata": {},
          "execution_count": 17
        }
      ],
      "source": [
        "predictions[0].argmax()\n",
        "#argamx : 행렬 성분 중 가장 값이 큰 놈 가져옴 (7번 인덱스, 즉 8번째 녀석이 제일 크므로 7)\n",
        "#argmin : 행렬 성분 중 가장 값이 작은 놈 가져옴 (6번 인덱스, 즉 7번째 녀석이 제일 작으므로 8 출력)"
      ]
    },
    {
      "cell_type": "code",
      "source": [
        "predictions[0].sum()\n",
        "#차이가 좀 있겠지만 이론적으로 확률 합은 1이라고 함 (1이 아닌 값 나올 수도)"
      ],
      "metadata": {
        "colab": {
          "base_uri": "https://localhost:8080/"
        },
        "id": "WjhJ9q-UQw0S",
        "outputId": "67c45f44-b0d9-4117-eb13-98e4ffe49fbf"
      },
      "execution_count": null,
      "outputs": [
        {
          "output_type": "execute_result",
          "data": {
            "text/plain": [
              "0.99999994"
            ]
          },
          "metadata": {},
          "execution_count": 18
        }
      ]
    },
    {
      "cell_type": "code",
      "execution_count": null,
      "metadata": {
        "id": "A94Q3pBbgcx2",
        "outputId": "62e7d5d8-0dda-41ae-f38b-c1272aa75a0c",
        "colab": {
          "base_uri": "https://localhost:8080/"
        }
      },
      "outputs": [
        {
          "output_type": "execute_result",
          "data": {
            "text/plain": [
              "0.9999778"
            ]
          },
          "metadata": {},
          "execution_count": 24
        }
      ],
      "source": [
        "predictions[0][7]"
      ]
    },
    {
      "cell_type": "code",
      "execution_count": null,
      "metadata": {
        "id": "AD_WtMgjgcx2",
        "outputId": "83ca15e9-f42d-4a17-9407-2bb23bb4f9a7",
        "colab": {
          "base_uri": "https://localhost:8080/"
        }
      },
      "outputs": [
        {
          "output_type": "execute_result",
          "data": {
            "text/plain": [
              "7"
            ]
          },
          "metadata": {},
          "execution_count": 32
        }
      ],
      "source": [
        "test_labels[0]"
      ]
    },
    {
      "cell_type": "markdown",
      "metadata": {
        "id": "WDVLEQ7Qgcx2"
      },
      "source": [
        "**Evaluating the model on new data**"
      ]
    },
    {
      "cell_type": "code",
      "execution_count": null,
      "metadata": {
        "id": "55Q6PZMbgcx2",
        "outputId": "e8c7828b-c967-4421-f5ee-b948bd99d162",
        "colab": {
          "base_uri": "https://localhost:8080/"
        }
      },
      "outputs": [
        {
          "output_type": "stream",
          "name": "stdout",
          "text": [
            "\u001b[1m100/100\u001b[0m \u001b[32m━━━━━━━━━━━━━━━━━━━━\u001b[0m\u001b[37m\u001b[0m \u001b[1m0s\u001b[0m 2ms/step - accuracy: 0.9814 - loss: 0.0857\n",
            "test_acc: 0.9842000007629395\n"
          ]
        }
      ],
      "source": [
        "test_loss, test_acc = model.evaluate(test_images, test_labels, batch_size=100)\n",
        "print(f\"test_acc: {test_acc}\")\n",
        "#batch_size를 설정 안 하면 313개"
      ]
    },
    {
      "cell_type": "code",
      "source": [
        "len(model.weights)\n",
        "#model.weights(가중치) 구성 : w_1 b_1 / w_2 b_2 (2x2 크기) => 길이 : 4"
      ],
      "metadata": {
        "colab": {
          "base_uri": "https://localhost:8080/"
        },
        "id": "hlcbJyKwRKaJ",
        "outputId": "c6ca72df-23d8-4f36-caa5-2a56d4b550ec"
      },
      "execution_count": null,
      "outputs": [
        {
          "output_type": "execute_result",
          "data": {
            "text/plain": [
              "4"
            ]
          },
          "metadata": {},
          "execution_count": 59
        }
      ]
    },
    {
      "cell_type": "code",
      "source": [
        "model.weights[0].shape\n",
        "#첫번째 가중치의 크기 = 784x1 크기를 512로 변환해야 하므로 784x512"
      ],
      "metadata": {
        "colab": {
          "base_uri": "https://localhost:8080/"
        },
        "id": "Qh1jyH88RRDu",
        "outputId": "ad80d6e3-6bff-42d9-d501-bc73a84c4c86"
      },
      "execution_count": null,
      "outputs": [
        {
          "output_type": "execute_result",
          "data": {
            "text/plain": [
              "TensorShape([784, 512])"
            ]
          },
          "metadata": {},
          "execution_count": 65
        }
      ]
    },
    {
      "cell_type": "code",
      "source": [
        "model.weights[2].shape"
      ],
      "metadata": {
        "colab": {
          "base_uri": "https://localhost:8080/"
        },
        "id": "AgHasM_1SP3O",
        "outputId": "25dd8525-dd15-4cb4-fb24-a643f311f300"
      },
      "execution_count": null,
      "outputs": [
        {
          "output_type": "execute_result",
          "data": {
            "text/plain": [
              "TensorShape([512, 10])"
            ]
          },
          "metadata": {},
          "execution_count": 71
        }
      ]
    },
    {
      "cell_type": "markdown",
      "metadata": {
        "id": "NgVNC3Ezgcx2"
      },
      "source": [
        "## Data representations for neural networks"
      ]
    },
    {
      "cell_type": "markdown",
      "metadata": {
        "id": "uY7EI0Aagcx3"
      },
      "source": [
        "### Scalars (rank-0 tensors)"
      ]
    },
    {
      "cell_type": "code",
      "source": [
        "# tenser : 데이터 창고"
      ],
      "metadata": {
        "id": "2G3YBnqHVRV2"
      },
      "execution_count": null,
      "outputs": []
    },
    {
      "cell_type": "code",
      "execution_count": null,
      "metadata": {
        "id": "vsN_DQMGgcx3",
        "colab": {
          "base_uri": "https://localhost:8080/"
        },
        "outputId": "b25d842e-a46b-421a-ba5a-595974f9efe9"
      },
      "outputs": [
        {
          "output_type": "execute_result",
          "data": {
            "text/plain": [
              "array(12)"
            ]
          },
          "metadata": {},
          "execution_count": 83
        }
      ],
      "source": [
        "import numpy as np\n",
        "# numpy 줄여쓰겠다는 뜻\n",
        "x = np.array(12)\n",
        "x"
      ]
    },
    {
      "cell_type": "code",
      "execution_count": null,
      "metadata": {
        "id": "lEilybnGgcx3",
        "colab": {
          "base_uri": "https://localhost:8080/"
        },
        "outputId": "36f27509-9cf5-4726-ed41-9c73a2042e16"
      },
      "outputs": [
        {
          "output_type": "execute_result",
          "data": {
            "text/plain": [
              "0"
            ]
          },
          "metadata": {},
          "execution_count": 84
        }
      ],
      "source": [
        "x.ndim\n",
        "#x는 0차원"
      ]
    },
    {
      "cell_type": "code",
      "source": [
        "x.shape\n",
        "#[]에 들은 게 없으니 ([]가 없으니) 아무것도 안 뜸"
      ],
      "metadata": {
        "colab": {
          "base_uri": "https://localhost:8080/"
        },
        "id": "7aSYfcE8Vyn4",
        "outputId": "65cd0353-e740-4604-aa89-609ed5a874b6"
      },
      "execution_count": null,
      "outputs": [
        {
          "output_type": "execute_result",
          "data": {
            "text/plain": [
              "()"
            ]
          },
          "metadata": {},
          "execution_count": 85
        }
      ]
    },
    {
      "cell_type": "markdown",
      "metadata": {
        "id": "kiDk0NYtgcx3"
      },
      "source": [
        "### Vectors (rank-1 tensors)"
      ]
    },
    {
      "cell_type": "code",
      "execution_count": null,
      "metadata": {
        "id": "cL8Y6jhXgcx3",
        "colab": {
          "base_uri": "https://localhost:8080/"
        },
        "outputId": "76f7364e-83a2-451c-8e48-9ce7d72c5970"
      },
      "outputs": [
        {
          "output_type": "execute_result",
          "data": {
            "text/plain": [
              "array([12,  3,  6, 14,  7])"
            ]
          },
          "metadata": {},
          "execution_count": 86
        }
      ],
      "source": [
        "x = np.array([12, 3, 6, 14, 7])\n",
        "x"
      ]
    },
    {
      "cell_type": "code",
      "execution_count": null,
      "metadata": {
        "id": "818ivKWpgcx3",
        "colab": {
          "base_uri": "https://localhost:8080/"
        },
        "outputId": "9154ee82-3efe-41e4-d27f-7fce3ae1fc27"
      },
      "outputs": [
        {
          "output_type": "execute_result",
          "data": {
            "text/plain": [
              "1"
            ]
          },
          "metadata": {},
          "execution_count": 87
        }
      ],
      "source": [
        "x.ndim\n",
        "#[] 1세트 당 차원 1개씩 증가"
      ]
    },
    {
      "cell_type": "code",
      "source": [
        "x.shape"
      ],
      "metadata": {
        "colab": {
          "base_uri": "https://localhost:8080/"
        },
        "id": "X9ozpFT-VwB5",
        "outputId": "d3868870-661d-446e-d4c7-539360a2bb27"
      },
      "execution_count": null,
      "outputs": [
        {
          "output_type": "execute_result",
          "data": {
            "text/plain": [
              "(5,)"
            ]
          },
          "metadata": {},
          "execution_count": 88
        }
      ]
    },
    {
      "cell_type": "markdown",
      "metadata": {
        "id": "wbUK9FxRgcx3"
      },
      "source": [
        "### Matrices (rank-2 tensors)"
      ]
    },
    {
      "cell_type": "code",
      "execution_count": null,
      "metadata": {
        "id": "uKc3mBkmgcx3",
        "colab": {
          "base_uri": "https://localhost:8080/"
        },
        "outputId": "c3ef47bb-2fd1-4dfd-a639-6665a3e555a5"
      },
      "outputs": [
        {
          "output_type": "execute_result",
          "data": {
            "text/plain": [
              "2"
            ]
          },
          "metadata": {},
          "execution_count": 89
        }
      ],
      "source": [
        "x = np.array([[5, 78, 2, 34, 0],\n",
        "              [6, 79, 3, 35, 1],\n",
        "              [7, 80, 4, 36, 2]])\n",
        "x.ndim\n",
        "#[] 2세트 있음"
      ]
    },
    {
      "cell_type": "code",
      "source": [
        "x.shape\n",
        "#3줄, 5개"
      ],
      "metadata": {
        "colab": {
          "base_uri": "https://localhost:8080/"
        },
        "id": "kFaDURV5V9Xd",
        "outputId": "d5ca4259-92ce-4600-9e82-1f202ad957a1"
      },
      "execution_count": null,
      "outputs": [
        {
          "output_type": "execute_result",
          "data": {
            "text/plain": [
              "(3, 5)"
            ]
          },
          "metadata": {},
          "execution_count": 90
        }
      ]
    },
    {
      "cell_type": "markdown",
      "metadata": {
        "id": "4OXjt8qigcx4"
      },
      "source": [
        "### Rank-3 and higher-rank tensors"
      ]
    },
    {
      "cell_type": "code",
      "execution_count": null,
      "metadata": {
        "id": "Ljzoc2Vkgcx4",
        "colab": {
          "base_uri": "https://localhost:8080/"
        },
        "outputId": "3cce4fb0-8041-48c1-f89a-d092481f453f"
      },
      "outputs": [
        {
          "output_type": "execute_result",
          "data": {
            "text/plain": [
              "3"
            ]
          },
          "metadata": {},
          "execution_count": 95
        }
      ],
      "source": [
        "x = np.array([[[5, 78, 2, 34, 0],\n",
        "               [6, 79, 3, 35, 1],\n",
        "               [7, 80, 4, 36, 2]],\n",
        "              [[5, 78, 2, 34, 0],\n",
        "               [6, 79, 3, 35, 1],\n",
        "               [7, 80, 4, 36, 2]],\n",
        "              [[5, 78, 2, 34, 0],\n",
        "               [6, 79, 3, 35, 1],\n",
        "               [7, 80, 4, 36, 2]]])\n",
        "x.ndim\n",
        "#[] 3세트 있음"
      ]
    },
    {
      "cell_type": "code",
      "source": [
        "x.shape\n",
        "#3x5짜리가 3개 있음"
      ],
      "metadata": {
        "colab": {
          "base_uri": "https://localhost:8080/"
        },
        "id": "HE-xnTTNWSUW",
        "outputId": "13071799-6279-41fa-fc40-3ea29b91775b"
      },
      "execution_count": null,
      "outputs": [
        {
          "output_type": "execute_result",
          "data": {
            "text/plain": [
              "(3, 3, 5)"
            ]
          },
          "metadata": {},
          "execution_count": 96
        }
      ]
    },
    {
      "cell_type": "markdown",
      "metadata": {
        "id": "UlUDHBXAgcx4"
      },
      "source": [
        "### Key attributes"
      ]
    },
    {
      "cell_type": "code",
      "execution_count": null,
      "metadata": {
        "id": "1WsfWOlsgcx4"
      },
      "outputs": [],
      "source": [
        "from tensorflow.keras.datasets import mnist\n",
        "(train_images, train_labels), (test_images, test_labels) = mnist.load_data()"
      ]
    },
    {
      "cell_type": "code",
      "execution_count": null,
      "metadata": {
        "id": "1WV2BftPgcyD",
        "colab": {
          "base_uri": "https://localhost:8080/"
        },
        "outputId": "2c247bcc-0051-4a55-d5c9-7b4d6417d56c"
      },
      "outputs": [
        {
          "output_type": "execute_result",
          "data": {
            "text/plain": [
              "3"
            ]
          },
          "metadata": {},
          "execution_count": 31
        }
      ],
      "source": [
        "train_images.ndim\n",
        "#3차원"
      ]
    },
    {
      "cell_type": "code",
      "execution_count": null,
      "metadata": {
        "id": "r1YYcuyVgcyD",
        "colab": {
          "base_uri": "https://localhost:8080/"
        },
        "outputId": "52dd3bf2-9d19-4118-b56f-77a9fc0343e4"
      },
      "outputs": [
        {
          "output_type": "execute_result",
          "data": {
            "text/plain": [
              "(60000, 28, 28)"
            ]
          },
          "metadata": {},
          "execution_count": 32
        }
      ],
      "source": [
        "train_images.shape\n",
        "#28x28짜리가 60000개"
      ]
    },
    {
      "cell_type": "code",
      "execution_count": null,
      "metadata": {
        "id": "MliL6UbSgcyE",
        "colab": {
          "base_uri": "https://localhost:8080/"
        },
        "outputId": "1c585ea1-545b-4def-99d0-18eb68338717"
      },
      "outputs": [
        {
          "output_type": "execute_result",
          "data": {
            "text/plain": [
              "dtype('uint8')"
            ]
          },
          "metadata": {},
          "execution_count": 33
        }
      ],
      "source": [
        "train_images.dtype\n",
        "#데이터 타입이 uint8 (0~2^8-1까지 데이터 존재)\n",
        "#255로 나눠야 정확성이 높았던 이유는 여기 있을지도?"
      ]
    },
    {
      "cell_type": "markdown",
      "metadata": {
        "id": "jP2B1dVvgcyE"
      },
      "source": [
        "**Displaying the fourth digit**"
      ]
    },
    {
      "cell_type": "code",
      "execution_count": null,
      "metadata": {
        "id": "0qESt7figcyE",
        "colab": {
          "base_uri": "https://localhost:8080/",
          "height": 430
        },
        "outputId": "72906973-3389-4a65-8ac6-1975f3edf739"
      },
      "outputs": [
        {
          "output_type": "display_data",
          "data": {
            "text/plain": [
              "<Figure size 640x480 with 1 Axes>"
            ],
            "image/png": "[encoded data removed]"
          },
          "metadata": {}
        }
      ],
      "source": [
        "import matplotlib.pyplot as plt\n",
        "#줄여 쓰겠다는 뜻\n",
        "digit = train_images[4]\n",
        "#대입하겠다는 뜻\n",
        "plt.imshow(digit, cmap=plt.cm.binary)\n",
        "plt.show()\n",
        "\n",
        "#prompt : visualize train_iamge[4] -> prompt 함수 쓰면 코드 알려줌 ㅎ"
      ]
    },
    {
      "cell_type": "code",
      "execution_count": null,
      "metadata": {
        "id": "iGez7INrgcyE",
        "colab": {
          "base_uri": "https://localhost:8080/"
        },
        "outputId": "d96d5be6-2f0f-4df4-e5f7-68ffc78ac30d"
      },
      "outputs": [
        {
          "output_type": "execute_result",
          "data": {
            "text/plain": [
              "np.uint8(9)"
            ]
          },
          "metadata": {},
          "execution_count": 35
        }
      ],
      "source": [
        "train_labels[4]\n",
        "#손 글자가 뭘 쓴 건지 알려줌 그림은 9를 썼으니 9라고 알려줌"
      ]
    },
    {
      "cell_type": "code",
      "execution_count": null,
      "metadata": {
        "id": "dbWamklegcyE",
        "colab": {
          "base_uri": "https://localhost:8080/"
        },
        "outputId": "147f2f1c-a317-469c-93bc-9979712d8818"
      },
      "outputs": [
        {
          "output_type": "execute_result",
          "data": {
            "text/plain": [
              "(90, 28, 28)"
            ]
          },
          "metadata": {},
          "execution_count": 40
        }
      ],
      "source": [
        "my_slice = train_images[10:100]\n",
        "my_slice.shape\n",
        "#60000개짜리 픽셀을 10번째에서 100번째 픽셀까지만 남기고 잘랐으니 90개가 남음"
      ]
    },
    {
      "cell_type": "code",
      "execution_count": null,
      "metadata": {
        "id": "skl1KNaJgcyE",
        "colab": {
          "base_uri": "https://localhost:8080/"
        },
        "outputId": "3888dd61-bbdb-4ccc-f75b-93350250d81d"
      },
      "outputs": [
        {
          "output_type": "execute_result",
          "data": {
            "text/plain": [
              "(90, 28, 28)"
            ]
          },
          "metadata": {},
          "execution_count": 102
        }
      ],
      "source": [
        "my_slice = train_images[10:100, :, :]\n",
        "my_slice.shape\n",
        "#범위를 지정하지 않고 :만 쓰면 냅두겠다는 뜻"
      ]
    },
    {
      "cell_type": "code",
      "execution_count": null,
      "metadata": {
        "id": "rSs1zkVagcyF",
        "colab": {
          "base_uri": "https://localhost:8080/"
        },
        "outputId": "ce13b5b6-77ec-4013-e7af-bb04d0cebff9"
      },
      "outputs": [
        {
          "output_type": "execute_result",
          "data": {
            "text/plain": [
              "(90, 28, 28)"
            ]
          },
          "metadata": {},
          "execution_count": 103
        }
      ],
      "source": [
        "my_slice = train_images[10:100, 0:28, 0:28]\n",
        "my_slice.shape"
      ]
    },
    {
      "cell_type": "code",
      "execution_count": null,
      "metadata": {
        "id": "ryx3FizOgcyF"
      },
      "outputs": [],
      "source": [
        "my_slice = train_images[:, 14:, 14:]\n",
        "#14번째에서 끝까지만 남기고 자르겠다는 뜻"
      ]
    },
    {
      "cell_type": "code",
      "execution_count": null,
      "metadata": {
        "id": "-rX0q4PKgcyF"
      },
      "outputs": [],
      "source": [
        "my_slice = train_images[:, 7:-7, 7:-7]\n",
        "# 7:-7 앞에서 7번째부터 뒤에서 7번째까지만 남기고 자른다는 뜻"
      ]
    },
    {
      "cell_type": "markdown",
      "metadata": {
        "id": "Jb4OUkJ3gcyF"
      },
      "source": [
        "### The notion of data batches"
      ]
    },
    {
      "cell_type": "code",
      "execution_count": null,
      "metadata": {
        "id": "NFc3Sp5KgcyF"
      },
      "outputs": [],
      "source": [
        "batch = train_images[:128]\n",
        "#0번째 픽셀부터 128번째 픽셀까지 1조각 자름 (1번째 조각)"
      ]
    },
    {
      "cell_type": "code",
      "execution_count": null,
      "metadata": {
        "id": "O1LX9FPQgcyF"
      },
      "outputs": [],
      "source": [
        "batch = train_images[128:256]\n",
        "#128번째 픽셀부터 256번째 픽셀까지 1조각 자름 (2번째 조각)"
      ]
    },
    {
      "cell_type": "code",
      "execution_count": null,
      "metadata": {
        "id": "FaOdhecYgcyG"
      },
      "outputs": [],
      "source": [
        "n = 3\n",
        "batch = train_images[128 * n:128 * (n + 1)]\n",
        "#128*n번째 픽셀부터 128*n+1번째 픽셀까지 1조각 자름 (n+1번째 조각)"
      ]
    },
    {
      "cell_type": "markdown",
      "metadata": {
        "id": "stEqPVF8gcyG"
      },
      "source": [
        "### Real-world examples of data tensors"
      ]
    },
    {
      "cell_type": "markdown",
      "metadata": {
        "id": "2ZSkSz8ygcyG"
      },
      "source": [
        "### Vector data"
      ]
    },
    {
      "cell_type": "markdown",
      "metadata": {
        "id": "TpWxMCsigcyG"
      },
      "source": [
        "### Timeseries data or sequence data"
      ]
    },
    {
      "cell_type": "markdown",
      "metadata": {
        "id": "Hc0KQDVqgcyG"
      },
      "source": [
        "### Image data"
      ]
    },
    {
      "cell_type": "markdown",
      "metadata": {
        "id": "VGpAzF27gcyH"
      },
      "source": [
        "### Video data"
      ]
    },
    {
      "cell_type": "markdown",
      "metadata": {
        "id": "aEkMjcZDgcyH"
      },
      "source": [
        "## The gears of neural networks: tensor operations"
      ]
    },
    {
      "cell_type": "markdown",
      "metadata": {
        "id": "KZLsehFfgcyH"
      },
      "source": [
        "### Element-wise operations"
      ]
    },
    {
      "cell_type": "code",
      "execution_count": null,
      "metadata": {
        "id": "K6DYrp3BgcyH"
      },
      "outputs": [],
      "source": [
        "def naive_relu(x):\n",
        "    assert len(x.shape) == 2 #assert는 일정의 조건문(수문장 역할), x가 2차원 tensor (Matrices)이어야 작동되도록 설정\n",
        "    x = x.copy() #x.copy를 쓰는 이유? 원본 훼손 안 하려고 -> naive_relu(x)를 취하면 음수인 원소가 전부 0으로 바뀌므로 x의 원본이 훼손됨\n",
        "    for i in range(x.shape[0]): #x.shape은 행(row), 열(column)으로 이뤄져있음 [0]=행, [1]=열 로 이해하면 편함\n",
        "        for j in range(x.shape[1]): # 얘랑 윗줄은 결국 i는 행 변수, j는 열 변수로 설정하겠다는 뜻\n",
        "            x[i, j] = max(x[i, j], 0) #원소의 범위 한정 : max(x, 0)을 하면 x가 음수여도 0으로 대체됨 -> x[i, j] 성분 중 음수인 원소가 있을 경우 양수로 변환\n",
        "    return x"
      ]
    },
    {
      "cell_type": "code",
      "source": [
        "import numpy as np\n",
        "x = np.array([[0,1],[2,3]])\n",
        "naive_relu(x)\n",
        "#naive_relu(x) : 위에 설정한 것에 의하면 행렬을 표현하는 도구 (i: 행, j: 열)"
      ],
      "metadata": {
        "colab": {
          "base_uri": "https://localhost:8080/"
        },
        "id": "HMLfRRgFT5jl",
        "outputId": "f6999f0e-1b3e-4a45-a9f0-c0b53c435370"
      },
      "execution_count": null,
      "outputs": [
        {
          "output_type": "execute_result",
          "data": {
            "text/plain": [
              "array([[0, 1],\n",
              "       [2, 3]])"
            ]
          },
          "metadata": {},
          "execution_count": 30
        }
      ]
    },
    {
      "cell_type": "code",
      "execution_count": null,
      "metadata": {
        "id": "fNS857ZlgcyI"
      },
      "outputs": [],
      "source": [
        "def naive_add(x, y):\n",
        "    assert len(x.shape) == 2 #x는 2차원 스칼라여야 함\n",
        "    assert x.shape == y.shape #y의 행렬 구조 (로우 건수 및 컬럼 건수) 가 x와 일치해야 함 (x가 1x6 행렬인데 y가 2x3 행렬이면 assert 조건에 어긋나 함수 오류 발생)\n",
        "    x = x.copy()\n",
        "    for i in range(x.shape[0]):\n",
        "        for j in range(x.shape[1]):\n",
        "            x[i, j] += y[i, j] # +=을 해주면 x[i, j]에 y[i, j]를 더한 값이 x[i, j]에 반영됨\n",
        "    return x"
      ]
    },
    {
      "cell_type": "code",
      "source": [
        "y=np.array([[2,3],[4,5]])\n",
        "naive_add(x,y)\n",
        "#naive_relu를 설정하는 과정에서 x를 3x2 행렬로 설정하였으므로 y도 3x2 행렬로 설정한 후 add 함수 실행"
      ],
      "metadata": {
        "colab": {
          "base_uri": "https://localhost:8080/"
        },
        "id": "6Pn_SyeGUj_F",
        "outputId": "5c718e7f-5b25-4301-f7cf-498c6c7015e6"
      },
      "execution_count": null,
      "outputs": [
        {
          "output_type": "execute_result",
          "data": {
            "text/plain": [
              "array([[2, 4],\n",
              "       [6, 8]])"
            ]
          },
          "metadata": {},
          "execution_count": 34
        }
      ]
    },
    {
      "cell_type": "code",
      "execution_count": null,
      "metadata": {
        "id": "0ISIFc5LgcyI",
        "colab": {
          "base_uri": "https://localhost:8080/"
        },
        "outputId": "ff70d6a6-2852-4e48-b02d-fabfb3b4cd2f"
      },
      "outputs": [
        {
          "output_type": "stream",
          "name": "stdout",
          "text": [
            "Took: 0.03 s\n"
          ]
        }
      ],
      "source": [
        "import time #시간 모듈 가져옴 (근데 이거 영상에 안 나와서 수업 시간에 해야할 듯)\n",
        "\n",
        "x = np.random.random((20, 100)) #20행 100열짜리 (성분은 0에서 1)\n",
        "y = np.random.random((20, 100))\n",
        "\n",
        "t0 = time.time()\n",
        "for _ in range(1000):\n",
        "    z = x + y #vetocrized된 상태에서 덧셈\n",
        "    z = np.maximum(z, 0.)\n",
        "print(\"Took: {0:.2f} s\".format(time.time() - t0)) #그냥 더했을 때 시간이 더 빠름 (짧게 걸림)"
      ]
    },
    {
      "cell_type": "code",
      "execution_count": null,
      "metadata": {
        "id": "H5XTn70fgcyI",
        "colab": {
          "base_uri": "https://localhost:8080/"
        },
        "outputId": "52fd0f40-8461-440e-ed53-505e45dc3128"
      },
      "outputs": [
        {
          "output_type": "stream",
          "name": "stdout",
          "text": [
            "Took: 2.01 s\n"
          ]
        }
      ],
      "source": [
        "t0 = time.time() #얘도 수업 시간에 알려줄 듯\n",
        "for _ in range(1000):\n",
        "    z = naive_add(x, y)\n",
        "    z = naive_relu(z)\n",
        "print(\"Took: {0:.2f} s\".format(time.time() - t0)) #naive_add로 더했을 때 시간이 더 걸림 (덧셈을 행x열 개수만큼 진행)"
      ]
    },
    {
      "cell_type": "markdown",
      "metadata": {
        "id": "GTpYAo2IgcyI"
      },
      "source": [
        "### Broadcasting"
      ]
    },
    {
      "cell_type": "code",
      "execution_count": null,
      "metadata": {
        "id": "yfZ__RH3gcyI",
        "colab": {
          "base_uri": "https://localhost:8080/"
        },
        "outputId": "f97a3a67-eb71-49c9-a3ff-6151dbf538ec"
      },
      "outputs": [
        {
          "output_type": "execute_result",
          "data": {
            "text/plain": [
              "array([0.69324317, 0.29189556, 0.09134523, 0.51135828, 0.50803111,\n",
              "       0.64984854, 0.02862393, 0.5084257 , 0.40164754, 0.55601174])"
            ]
          },
          "metadata": {},
          "execution_count": 37
        }
      ],
      "source": [
        "import numpy as np\n",
        "X = np.random.random((32, 10)) #random 함수는 0과 1 사이 실수를 불러오고, random.random((32,10)) 함수는 32행 x 10열짜리 행렬의 성분이 모두 0과 1사이 수라 생각하면 됨\n",
        "y = np.random.random((10,)) #얘는 그냥 1차원 텐서 (스칼라)\n",
        "y"
      ]
    },
    {
      "cell_type": "code",
      "source": [
        "a = np.random.random((2,2))\n",
        "b = np.random.random((2,))\n",
        "print(a, b, a+b)\n",
        "#b를 복제하여 a에 모든 행에 더함 (broadcasting)\n",
        "#위의 (32,10) 행인 X에 10행짜리 y를 복제하여 32행에 쫙 더함\n",
        "#예를 들어, [[1,2],[3,4]]와 [[2,1],]을 더한다 가정하면 [1,2]에도 [2,1]을, [3,4]에도 [2,1]을 더하는 방식"
      ],
      "metadata": {
        "colab": {
          "base_uri": "https://localhost:8080/"
        },
        "id": "ymgAJrVmQ1X5",
        "outputId": "ea84f415-e455-4303-fd11-d450a7cf6d72"
      },
      "execution_count": null,
      "outputs": [
        {
          "output_type": "stream",
          "name": "stdout",
          "text": [
            "[[0.86353206 0.71649709]\n",
            " [0.49433926 0.31839038]] [0.81528399 0.12049468] [[1.67881604 0.83699177]\n",
            " [1.30962325 0.43888506]]\n"
          ]
        }
      ]
    },
    {
      "cell_type": "code",
      "execution_count": null,
      "metadata": {
        "id": "hUGXwDHbgcyJ",
        "colab": {
          "base_uri": "https://localhost:8080/"
        },
        "outputId": "2232c5bf-c839-4987-a54c-795d9e532f58"
      },
      "outputs": [
        {
          "output_type": "execute_result",
          "data": {
            "text/plain": [
              "array([[0.58828733, 0.73231508, 0.35254177, 0.34102414, 0.81007583,\n",
              "        0.90552327, 0.17717393, 0.48230591, 0.02972309, 0.87563789]])"
            ]
          },
          "metadata": {},
          "execution_count": 80
        }
      ],
      "source": [
        "y = np.expand_dims(y, axis=0)\n",
        "y\n",
        "#axis=0이면 행 방향 (각 행의 모든 차원 증가) 으로 작동 (행 차원 증가 -> 각 행의 [] 개수 증가)\n",
        "#axis=1이면 열 방향 (각 열의 모든 차원 증가) 으로 작동 (열 차원 증가 -> 각 열의 [] 개수 증가)\n",
        "#y는 Column 건수만 10개인 벡터였으니 행을 1로 생성해준 셈"
      ]
    },
    {
      "cell_type": "code",
      "execution_count": null,
      "metadata": {
        "id": "V_DEka0CgcyJ",
        "colab": {
          "base_uri": "https://localhost:8080/"
        },
        "outputId": "81f3fa5d-b7f6-43bb-e6c1-f278c3f94545"
      },
      "outputs": [
        {
          "output_type": "execute_result",
          "data": {
            "text/plain": [
              "array([[0.58828733, 0.73231508, 0.35254177, 0.34102414, 0.81007583,\n",
              "        0.90552327, 0.17717393, 0.48230591, 0.02972309, 0.87563789],\n",
              "       [0.58828733, 0.73231508, 0.35254177, 0.34102414, 0.81007583,\n",
              "        0.90552327, 0.17717393, 0.48230591, 0.02972309, 0.87563789],\n",
              "       [0.58828733, 0.73231508, 0.35254177, 0.34102414, 0.81007583,\n",
              "        0.90552327, 0.17717393, 0.48230591, 0.02972309, 0.87563789],\n",
              "       [0.58828733, 0.73231508, 0.35254177, 0.34102414, 0.81007583,\n",
              "        0.90552327, 0.17717393, 0.48230591, 0.02972309, 0.87563789],\n",
              "       [0.58828733, 0.73231508, 0.35254177, 0.34102414, 0.81007583,\n",
              "        0.90552327, 0.17717393, 0.48230591, 0.02972309, 0.87563789],\n",
              "       [0.58828733, 0.73231508, 0.35254177, 0.34102414, 0.81007583,\n",
              "        0.90552327, 0.17717393, 0.48230591, 0.02972309, 0.87563789],\n",
              "       [0.58828733, 0.73231508, 0.35254177, 0.34102414, 0.81007583,\n",
              "        0.90552327, 0.17717393, 0.48230591, 0.02972309, 0.87563789],\n",
              "       [0.58828733, 0.73231508, 0.35254177, 0.34102414, 0.81007583,\n",
              "        0.90552327, 0.17717393, 0.48230591, 0.02972309, 0.87563789],\n",
              "       [0.58828733, 0.73231508, 0.35254177, 0.34102414, 0.81007583,\n",
              "        0.90552327, 0.17717393, 0.48230591, 0.02972309, 0.87563789],\n",
              "       [0.58828733, 0.73231508, 0.35254177, 0.34102414, 0.81007583,\n",
              "        0.90552327, 0.17717393, 0.48230591, 0.02972309, 0.87563789],\n",
              "       [0.58828733, 0.73231508, 0.35254177, 0.34102414, 0.81007583,\n",
              "        0.90552327, 0.17717393, 0.48230591, 0.02972309, 0.87563789],\n",
              "       [0.58828733, 0.73231508, 0.35254177, 0.34102414, 0.81007583,\n",
              "        0.90552327, 0.17717393, 0.48230591, 0.02972309, 0.87563789],\n",
              "       [0.58828733, 0.73231508, 0.35254177, 0.34102414, 0.81007583,\n",
              "        0.90552327, 0.17717393, 0.48230591, 0.02972309, 0.87563789],\n",
              "       [0.58828733, 0.73231508, 0.35254177, 0.34102414, 0.81007583,\n",
              "        0.90552327, 0.17717393, 0.48230591, 0.02972309, 0.87563789],\n",
              "       [0.58828733, 0.73231508, 0.35254177, 0.34102414, 0.81007583,\n",
              "        0.90552327, 0.17717393, 0.48230591, 0.02972309, 0.87563789],\n",
              "       [0.58828733, 0.73231508, 0.35254177, 0.34102414, 0.81007583,\n",
              "        0.90552327, 0.17717393, 0.48230591, 0.02972309, 0.87563789],\n",
              "       [0.58828733, 0.73231508, 0.35254177, 0.34102414, 0.81007583,\n",
              "        0.90552327, 0.17717393, 0.48230591, 0.02972309, 0.87563789],\n",
              "       [0.58828733, 0.73231508, 0.35254177, 0.34102414, 0.81007583,\n",
              "        0.90552327, 0.17717393, 0.48230591, 0.02972309, 0.87563789],\n",
              "       [0.58828733, 0.73231508, 0.35254177, 0.34102414, 0.81007583,\n",
              "        0.90552327, 0.17717393, 0.48230591, 0.02972309, 0.87563789],\n",
              "       [0.58828733, 0.73231508, 0.35254177, 0.34102414, 0.81007583,\n",
              "        0.90552327, 0.17717393, 0.48230591, 0.02972309, 0.87563789],\n",
              "       [0.58828733, 0.73231508, 0.35254177, 0.34102414, 0.81007583,\n",
              "        0.90552327, 0.17717393, 0.48230591, 0.02972309, 0.87563789],\n",
              "       [0.58828733, 0.73231508, 0.35254177, 0.34102414, 0.81007583,\n",
              "        0.90552327, 0.17717393, 0.48230591, 0.02972309, 0.87563789],\n",
              "       [0.58828733, 0.73231508, 0.35254177, 0.34102414, 0.81007583,\n",
              "        0.90552327, 0.17717393, 0.48230591, 0.02972309, 0.87563789],\n",
              "       [0.58828733, 0.73231508, 0.35254177, 0.34102414, 0.81007583,\n",
              "        0.90552327, 0.17717393, 0.48230591, 0.02972309, 0.87563789],\n",
              "       [0.58828733, 0.73231508, 0.35254177, 0.34102414, 0.81007583,\n",
              "        0.90552327, 0.17717393, 0.48230591, 0.02972309, 0.87563789],\n",
              "       [0.58828733, 0.73231508, 0.35254177, 0.34102414, 0.81007583,\n",
              "        0.90552327, 0.17717393, 0.48230591, 0.02972309, 0.87563789],\n",
              "       [0.58828733, 0.73231508, 0.35254177, 0.34102414, 0.81007583,\n",
              "        0.90552327, 0.17717393, 0.48230591, 0.02972309, 0.87563789],\n",
              "       [0.58828733, 0.73231508, 0.35254177, 0.34102414, 0.81007583,\n",
              "        0.90552327, 0.17717393, 0.48230591, 0.02972309, 0.87563789],\n",
              "       [0.58828733, 0.73231508, 0.35254177, 0.34102414, 0.81007583,\n",
              "        0.90552327, 0.17717393, 0.48230591, 0.02972309, 0.87563789],\n",
              "       [0.58828733, 0.73231508, 0.35254177, 0.34102414, 0.81007583,\n",
              "        0.90552327, 0.17717393, 0.48230591, 0.02972309, 0.87563789],\n",
              "       [0.58828733, 0.73231508, 0.35254177, 0.34102414, 0.81007583,\n",
              "        0.90552327, 0.17717393, 0.48230591, 0.02972309, 0.87563789],\n",
              "       [0.58828733, 0.73231508, 0.35254177, 0.34102414, 0.81007583,\n",
              "        0.90552327, 0.17717393, 0.48230591, 0.02972309, 0.87563789]])"
            ]
          },
          "metadata": {},
          "execution_count": 81
        }
      ],
      "source": [
        "Y = np.concatenate([y] * 32, axis=0)\n",
        "Y\n",
        "#위에서 y의 차원을 1차원 높여 X와 동일시하였고, axis=0 (행 방향) 이므로 행 : 32, 열 : 10인 상태가 됨 (열 10개만 있었던 np.array를 32번 복제하여 32개짜리 행 만듦) -> x와 행렬 상태 똑같음"
      ]
    },
    {
      "cell_type": "code",
      "execution_count": null,
      "metadata": {
        "id": "pLxM4EnIgcyJ"
      },
      "outputs": [],
      "source": [
        "def naive_add_matrix_and_vector(x, y):\n",
        "    assert len(x.shape) == 2 #예제에서 x = np.random.random((32,10))였음 즉, 2차원\n",
        "    assert len(y.shape) == 1 #예제에서 y = np.random.random((10,)),였음 즉, 1차원\n",
        "    assert x.shape[1] == y.shape[0] #x의 [1] 인덱스와 y의 [0] 인덱스가 일치 (예제에서는 둘 다 10으로 일치)\n",
        "    x = x.copy()\n",
        "    for i in range(x.shape[0]):\n",
        "        for j in range(x.shape[1]):\n",
        "            x[i, j] += y[j] #x와 y를 합하면 x의 [1] 인덱스만 처리됨\n",
        "    return x"
      ]
    },
    {
      "cell_type": "code",
      "execution_count": null,
      "metadata": {
        "id": "qXT65RZegcyJ",
        "colab": {
          "base_uri": "https://localhost:8080/"
        },
        "outputId": "9718058d-1bda-4dfa-be39-091a667f9bea"
      },
      "outputs": [
        {
          "output_type": "execute_result",
          "data": {
            "text/plain": [
              "array([[[[0.97745261, 0.75553937, 0.34766401, ..., 0.88635059,\n",
              "          0.9831498 , 0.28994728],\n",
              "         [0.99215905, 0.12719005, 0.98600623, ..., 0.25092446,\n",
              "          0.81095903, 0.9459593 ],\n",
              "         [0.24234134, 0.47646462, 0.51998312, ..., 0.8941252 ,\n",
              "          0.92201905, 0.91991212],\n",
              "         ...,\n",
              "         [0.27765649, 0.68719586, 0.77861291, ..., 0.69502882,\n",
              "          0.95921329, 0.31539258],\n",
              "         [0.94339333, 0.95708982, 0.95973799, ..., 0.74354174,\n",
              "          0.51218051, 0.68278871],\n",
              "         [0.81338724, 0.55473612, 0.87718296, ..., 0.4943373 ,\n",
              "          0.6766761 , 0.80323877]],\n",
              "\n",
              "        [[0.97745261, 0.1172141 , 0.6398185 , ..., 0.56756573,\n",
              "          0.42369727, 0.99744746],\n",
              "         [0.99215905, 0.49637968, 0.61148953, ..., 0.25092446,\n",
              "          0.81095903, 0.9308883 ],\n",
              "         [0.24234134, 0.60858237, 0.72677014, ..., 0.8941252 ,\n",
              "          0.92201905, 0.10449171],\n",
              "         ...,\n",
              "         [0.80759027, 0.69375938, 0.97645531, ..., 0.83091446,\n",
              "          0.95921329, 0.3533206 ],\n",
              "         [0.55316436, 0.95708982, 0.92306519, ..., 0.88164797,\n",
              "          0.17410851, 0.47161675],\n",
              "         [0.96062041, 0.5126593 , 0.85379337, ..., 0.32971554,\n",
              "          0.80278534, 0.80323877]],\n",
              "\n",
              "        [[0.97745261, 0.36451891, 0.40911757, ..., 0.56756573,\n",
              "          0.68011075, 0.27880073],\n",
              "         [0.99215905, 0.93507406, 0.90828258, ..., 0.55987862,\n",
              "          0.81095903, 0.9308883 ],\n",
              "         [0.84057004, 0.47646462, 0.57618646, ..., 0.8941252 ,\n",
              "          0.92201905, 0.19918522],\n",
              "         ...,\n",
              "         [0.20531151, 0.68719586, 0.17319438, ..., 0.59364058,\n",
              "          0.95921329, 0.60831886],\n",
              "         [0.55316436, 0.95708982, 0.85104217, ..., 0.85233221,\n",
              "          0.72146303, 0.47161675],\n",
              "         [0.81338724, 0.92931637, 0.80965419, ..., 0.68462173,\n",
              "          0.6766761 , 0.80323877]]],\n",
              "\n",
              "\n",
              "       [[[0.97745261, 0.19277655, 0.49894061, ..., 0.68506956,\n",
              "          0.42369727, 0.11124117],\n",
              "         [0.99215905, 0.70939485, 0.21153924, ..., 0.25092446,\n",
              "          0.81095903, 0.9308883 ],\n",
              "         [0.24234134, 0.68235488, 0.8112995 , ..., 0.8941252 ,\n",
              "          0.92201905, 0.78259097],\n",
              "         ...,\n",
              "         [0.61926066, 0.68719586, 0.23103777, ..., 0.59364058,\n",
              "          0.95921329, 0.13138811],\n",
              "         [0.55316436, 0.95708982, 0.85104217, ..., 0.42331996,\n",
              "          0.90691874, 0.47161675],\n",
              "         [0.81338724, 0.5126593 , 0.42815015, ..., 0.71791117,\n",
              "          0.90000871, 0.80323877]],\n",
              "\n",
              "        [[0.97745261, 0.05109482, 0.6667088 , ..., 0.73733781,\n",
              "          0.66672444, 0.38459095],\n",
              "         [0.99215905, 0.55268025, 0.34937866, ..., 0.25092446,\n",
              "          0.81095903, 0.9308883 ],\n",
              "         [0.45147745, 0.98074609, 0.65896825, ..., 0.8941252 ,\n",
              "          0.92201905, 0.54975334],\n",
              "         ...,\n",
              "         [0.80792722, 0.73197978, 0.4130335 , ..., 0.59364058,\n",
              "          0.95921329, 0.24881158],\n",
              "         [0.55316436, 0.95708982, 0.88587063, ..., 0.61172654,\n",
              "          0.6585956 , 0.47161675],\n",
              "         [0.81338724, 0.5126593 , 0.42815015, ..., 0.62949295,\n",
              "          0.79982303, 0.80323877]],\n",
              "\n",
              "        [[0.97745261, 0.79117868, 0.91002029, ..., 0.56756573,\n",
              "          0.68939958, 0.13011114],\n",
              "         [0.99215905, 0.26265371, 0.64419754, ..., 0.83779845,\n",
              "          0.81095903, 0.9308883 ],\n",
              "         [0.24234134, 0.8832253 , 0.89009967, ..., 0.8941252 ,\n",
              "          0.92201905, 0.17382617],\n",
              "         ...,\n",
              "         [0.98443795, 0.68719586, 0.7266012 , ..., 0.59364058,\n",
              "          0.95921329, 0.10891877],\n",
              "         [0.55316436, 0.9896475 , 0.85104217, ..., 0.98431238,\n",
              "          0.93367292, 0.47161675],\n",
              "         [0.81338724, 0.84018866, 0.85570477, ..., 0.3653663 ,\n",
              "          0.6766761 , 0.80323877]]],\n",
              "\n",
              "\n",
              "       [[[0.97745261, 0.90570686, 0.77598394, ..., 0.56756573,\n",
              "          0.42369727, 0.11124117],\n",
              "         [0.99215905, 0.32530546, 0.80922506, ..., 0.25092446,\n",
              "          0.81095903, 0.9308883 ],\n",
              "         [0.56874939, 0.69722807, 0.93020744, ..., 0.8941252 ,\n",
              "          0.92201905, 0.10023574],\n",
              "         ...,\n",
              "         [0.20531151, 0.98080077, 0.07959   , ..., 0.59364058,\n",
              "          0.95921329, 0.96396756],\n",
              "         [0.55316436, 0.95708982, 0.85104217, ..., 0.08180494,\n",
              "          0.73763995, 0.69717894],\n",
              "         [0.81338724, 0.5126593 , 0.87819756, ..., 0.81061385,\n",
              "          0.6766761 , 0.80323877]],\n",
              "\n",
              "        [[0.97745261, 0.60152294, 0.86908919, ..., 0.85126529,\n",
              "          0.42369727, 0.97424584],\n",
              "         [0.99215905, 0.98751484, 0.66871481, ..., 0.908003  ,\n",
              "          0.81095903, 0.9308883 ],\n",
              "         [0.24234134, 0.47646462, 0.92560191, ..., 0.8941252 ,\n",
              "          0.92201905, 0.11315172],\n",
              "         ...,\n",
              "         [0.75298689, 0.68719586, 0.09133394, ..., 0.59364058,\n",
              "          0.95921329, 0.87045168],\n",
              "         [0.67455931, 0.95708982, 0.85104217, ..., 0.8053272 ,\n",
              "          0.35741223, 0.4927285 ],\n",
              "         [0.81338724, 0.5126593 , 0.59443259, ..., 0.32971554,\n",
              "          0.6766761 , 0.80323877]],\n",
              "\n",
              "        [[0.97745261, 0.22579145, 0.02849615, ..., 0.56756573,\n",
              "          0.42369727, 0.33349768],\n",
              "         [0.99215905, 0.90114047, 0.66884508, ..., 0.25092446,\n",
              "          0.93853107, 0.9308883 ],\n",
              "         [0.24234134, 0.78315555, 0.51998312, ..., 0.8941252 ,\n",
              "          0.92201905, 0.10023574],\n",
              "         ...,\n",
              "         [0.20531151, 0.68719586, 0.68029857, ..., 0.59364058,\n",
              "          0.95921329, 0.14160002],\n",
              "         [0.55316436, 0.95708982, 0.85104217, ..., 0.93073052,\n",
              "          0.49434256, 0.47161675],\n",
              "         [0.81338724, 0.96207567, 0.66108796, ..., 0.32971554,\n",
              "          0.6766761 , 0.80323877]]],\n",
              "\n",
              "\n",
              "       ...,\n",
              "\n",
              "\n",
              "       [[[0.97745261, 0.15562884, 0.02849615, ..., 0.90427477,\n",
              "          0.6585779 , 0.65441429],\n",
              "         [0.99215905, 0.78571071, 0.14319087, ..., 0.38485977,\n",
              "          0.81095903, 0.9692559 ],\n",
              "         [0.24234134, 0.8114099 , 0.51998312, ..., 0.8941252 ,\n",
              "          0.9926008 , 0.61974857],\n",
              "         ...,\n",
              "         [0.2377265 , 0.68719586, 0.80506034, ..., 0.80286892,\n",
              "          0.95921329, 0.6776991 ],\n",
              "         [0.55316436, 0.95708982, 0.85104217, ..., 0.34234294,\n",
              "          0.36414687, 0.47161675],\n",
              "         [0.81338724, 0.5126593 , 0.42815015, ..., 0.47677677,\n",
              "          0.6766761 , 0.80323877]],\n",
              "\n",
              "        [[0.97745261, 0.43000663, 0.78633648, ..., 0.94811959,\n",
              "          0.42369727, 0.85420434],\n",
              "         [0.99215905, 0.75323008, 0.0926356 , ..., 0.71983023,\n",
              "          0.81095903, 0.99074106],\n",
              "         [0.31565892, 0.7207664 , 0.88456491, ..., 0.8941252 ,\n",
              "          0.92201905, 0.37790249],\n",
              "         ...,\n",
              "         [0.20531151, 0.68719586, 0.69464157, ..., 0.59364058,\n",
              "          0.95921329, 0.58698173],\n",
              "         [0.55316436, 0.95708982, 0.85104217, ..., 0.60645443,\n",
              "          0.14072116, 0.61078357],\n",
              "         [0.81338724, 0.96855555, 0.59827961, ..., 0.83836806,\n",
              "          0.6766761 , 0.87244218]],\n",
              "\n",
              "        [[0.97745261, 0.36576522, 0.42655069, ..., 0.56756573,\n",
              "          0.42369727, 0.82502755],\n",
              "         [0.99215905, 0.20308353, 0.24160647, ..., 0.42375954,\n",
              "          0.85606192, 0.9308883 ],\n",
              "         [0.36317705, 0.62772802, 0.51998312, ..., 0.8941252 ,\n",
              "          0.92201905, 0.88279321],\n",
              "         ...,\n",
              "         [0.64196466, 0.68719586, 0.55997113, ..., 0.90036552,\n",
              "          0.95921329, 0.74724399],\n",
              "         [0.75755889, 0.95708982, 0.85104217, ..., 0.72204703,\n",
              "          0.94606757, 0.47161675],\n",
              "         [0.81338724, 0.92165392, 0.75827268, ..., 0.32971554,\n",
              "          0.6766761 , 0.94294679]]],\n",
              "\n",
              "\n",
              "       [[[0.97745261, 0.90297295, 0.36448267, ..., 0.56756573,\n",
              "          0.54909808, 0.40772973],\n",
              "         [0.99215905, 0.3311137 , 0.19886278, ..., 0.25092446,\n",
              "          0.81095903, 0.9308883 ],\n",
              "         [0.78116759, 0.48287407, 0.51998312, ..., 0.8941252 ,\n",
              "          0.92201905, 0.42081533],\n",
              "         ...,\n",
              "         [0.67059529, 0.97295932, 0.26347932, ..., 0.59364058,\n",
              "          0.95921329, 0.53132961],\n",
              "         [0.60710569, 0.95708982, 0.85104217, ..., 0.92181728,\n",
              "          0.76832712, 0.92383008],\n",
              "         [0.81338724, 0.56187688, 0.90728146, ..., 0.65487189,\n",
              "          0.92492217, 0.80323877]],\n",
              "\n",
              "        [[0.97745261, 0.50357124, 0.86881776, ..., 0.8710115 ,\n",
              "          0.70590489, 0.43697582],\n",
              "         [0.99215905, 0.88696633, 0.94206503, ..., 0.3091125 ,\n",
              "          0.81095903, 0.93622745],\n",
              "         [0.37876471, 0.62865645, 0.51998312, ..., 0.8941252 ,\n",
              "          0.97790432, 0.25620481],\n",
              "         ...,\n",
              "         [0.71224038, 0.68719586, 0.70043709, ..., 0.59364058,\n",
              "          0.95921329, 0.6255835 ],\n",
              "         [0.63751479, 0.95708982, 0.86237678, ..., 0.76423214,\n",
              "          0.40642148, 0.47161675],\n",
              "         [0.81338724, 0.79622027, 0.42815015, ..., 0.53681405,\n",
              "          0.6766761 , 0.88892581]],\n",
              "\n",
              "        [[0.98435772, 0.69680138, 0.99916486, ..., 0.56756573,\n",
              "          0.87988833, 0.48890229],\n",
              "         [0.99215905, 0.39647211, 0.0123004 , ..., 0.43037845,\n",
              "          0.81095903, 0.9308883 ],\n",
              "         [0.24234134, 0.47646462, 0.80918275, ..., 0.8941252 ,\n",
              "          0.92201905, 0.10023574],\n",
              "         ...,\n",
              "         [0.81662171, 0.68719586, 0.72796002, ..., 0.79043505,\n",
              "          0.95921329, 0.9497979 ],\n",
              "         [0.95382233, 0.95708982, 0.85104217, ..., 0.92066783,\n",
              "          0.13211716, 0.47161675],\n",
              "         [0.81338724, 0.71839937, 0.42815015, ..., 0.73003158,\n",
              "          0.6766761 , 0.85784276]]],\n",
              "\n",
              "\n",
              "       [[[0.97745261, 0.47152704, 0.6237576 , ..., 0.72891047,\n",
              "          0.42369727, 0.16089199],\n",
              "         [0.99215905, 0.72837065, 0.79623935, ..., 0.95204151,\n",
              "          0.81095903, 0.9308883 ],\n",
              "         [0.59126662, 0.47646462, 0.55563236, ..., 0.8941252 ,\n",
              "          0.92201905, 0.10023574],\n",
              "         ...,\n",
              "         [0.66307175, 0.68719586, 0.10123937, ..., 0.77755833,\n",
              "          0.95921329, 0.09981443],\n",
              "         [0.55316436, 0.95708982, 0.85104217, ..., 0.62707616,\n",
              "          0.73864584, 0.47161675],\n",
              "         [0.81338724, 0.5126593 , 0.42815015, ..., 0.48193518,\n",
              "          0.6766761 , 0.80323877]],\n",
              "\n",
              "        [[0.97745261, 0.72027905, 0.44164047, ..., 0.56756573,\n",
              "          0.42369727, 0.16310716],\n",
              "         [0.99215905, 0.67648145, 0.83085329, ..., 0.64520257,\n",
              "          0.81095903, 0.9308883 ],\n",
              "         [0.50377438, 0.85650642, 0.51998312, ..., 0.8941252 ,\n",
              "          0.92201905, 0.51168901],\n",
              "         ...,\n",
              "         [0.20531151, 0.68719586, 0.92321488, ..., 0.59364058,\n",
              "          0.95921329, 0.85210187],\n",
              "         [0.55316436, 0.95708982, 0.85104217, ..., 0.42420271,\n",
              "          0.4884739 , 0.47161675],\n",
              "         [0.81338724, 0.57485816, 0.42815015, ..., 0.32971554,\n",
              "          0.6766761 , 0.88048473]],\n",
              "\n",
              "        [[0.97745261, 0.05109482, 0.15215137, ..., 0.56756573,\n",
              "          0.96449197, 0.95218421],\n",
              "         [0.99215905, 0.80824241, 0.99589143, ..., 0.28582551,\n",
              "          0.81095903, 0.9308883 ],\n",
              "         [0.24234134, 0.47646462, 0.51998312, ..., 0.94719845,\n",
              "          0.95549555, 0.61312443],\n",
              "         ...,\n",
              "         [0.62311084, 0.68719586, 0.31721061, ..., 0.59364058,\n",
              "          0.95921329, 0.09981443],\n",
              "         [0.96797777, 0.95708982, 0.85104217, ..., 0.05646602,\n",
              "          0.98708306, 0.88747614],\n",
              "         [0.81338724, 0.9202599 , 0.42815015, ..., 0.58475437,\n",
              "          0.6766761 , 0.95054124]]]])"
            ]
          },
          "metadata": {},
          "execution_count": 84
        }
      ],
      "source": [
        "import numpy as np\n",
        "x = np.random.random((64, 3, 32, 10))\n",
        "y = np.random.random((32, 10))\n",
        "z = np.maximum(x, y) #x와 y 중 차원 더 큰 놈으로 나옴\n",
        "z"
      ]
    },
    {
      "cell_type": "markdown",
      "metadata": {
        "id": "F9CvrqE8gcyJ"
      },
      "source": [
        "### Tensor product(이거 안한댔음)"
      ]
    },
    {
      "cell_type": "code",
      "execution_count": null,
      "metadata": {
        "id": "VgAGuT0wgcyK"
      },
      "outputs": [],
      "source": [
        "x = np.random.random((32,))\n",
        "y = np.random.random((32,))\n",
        "z = np.dot(x, y)"
      ]
    },
    {
      "cell_type": "code",
      "execution_count": null,
      "metadata": {
        "id": "ljkX12l9gcyK"
      },
      "outputs": [],
      "source": [
        "def naive_vector_dot(x, y):\n",
        "    assert len(x.shape) == 1\n",
        "    assert len(y.shape) == 1\n",
        "    assert x.shape[0] == y.shape[0]\n",
        "    z = 0.\n",
        "    for i in range(x.shape[0]):\n",
        "        z += x[i] * y[i]\n",
        "    return z"
      ]
    },
    {
      "cell_type": "code",
      "execution_count": null,
      "metadata": {
        "id": "hPNCFi8OgcyK"
      },
      "outputs": [],
      "source": [
        "def naive_matrix_vector_dot(x, y):\n",
        "    assert len(x.shape) == 2\n",
        "    assert len(y.shape) == 1\n",
        "    assert x.shape[1] == y.shape[0]\n",
        "    z = np.zeros(x.shape[0])\n",
        "    for i in range(x.shape[0]):\n",
        "        for j in range(x.shape[1]):\n",
        "            z[i] += x[i, j] * y[j]\n",
        "    return z"
      ]
    },
    {
      "cell_type": "code",
      "execution_count": null,
      "metadata": {
        "id": "Vmjig2uGgcyK"
      },
      "outputs": [],
      "source": [
        "def naive_matrix_vector_dot(x, y):\n",
        "    z = np.zeros(x.shape[0])\n",
        "    for i in range(x.shape[0]):\n",
        "        z[i] = naive_vector_dot(x[i, :], y)\n",
        "    return z"
      ]
    },
    {
      "cell_type": "code",
      "execution_count": null,
      "metadata": {
        "id": "_cD46txPgcyK"
      },
      "outputs": [],
      "source": [
        "def naive_matrix_dot(x, y):\n",
        "    assert len(x.shape) == 2\n",
        "    assert len(y.shape) == 2\n",
        "    assert x.shape[1] == y.shape[0]\n",
        "    z = np.zeros((x.shape[0], y.shape[1]))\n",
        "    for i in range(x.shape[0]):\n",
        "        for j in range(y.shape[1]):\n",
        "            row_x = x[i, :]\n",
        "            column_y = y[:, j]\n",
        "            z[i, j] = naive_vector_dot(row_x, column_y)\n",
        "    return z"
      ]
    },
    {
      "cell_type": "markdown",
      "metadata": {
        "id": "8X1uxH7HgcyK"
      },
      "source": [
        "### Tensor reshaping"
      ]
    },
    {
      "cell_type": "code",
      "execution_count": null,
      "metadata": {
        "id": "8xWWwRkigcyK"
      },
      "outputs": [],
      "source": [
        "train_images = train_images.reshape((60000, 28 * 28))"
      ]
    },
    {
      "cell_type": "code",
      "execution_count": null,
      "metadata": {
        "id": "RZTJRqE-gcyL",
        "colab": {
          "base_uri": "https://localhost:8080/"
        },
        "outputId": "eabbc532-ba78-40c6-a38e-5f6358e8fe31"
      },
      "outputs": [
        {
          "output_type": "stream",
          "name": "stdout",
          "text": [
            "(3, 2) 2\n"
          ]
        }
      ],
      "source": [
        "import numpy as np\n",
        "x = np.array([[0., 1.],\n",
        "             [2., 3.],\n",
        "             [4., 5.]])\n",
        "print(x.shape, x.ndim)"
      ]
    },
    {
      "cell_type": "code",
      "execution_count": null,
      "metadata": {
        "id": "icUr1KLIgcyL",
        "colab": {
          "base_uri": "https://localhost:8080/"
        },
        "outputId": "1a3540bb-1e4d-40d7-f90b-cd89cf5f8760"
      },
      "outputs": [
        {
          "output_type": "execute_result",
          "data": {
            "text/plain": [
              "array([[0.],\n",
              "       [1.],\n",
              "       [2.],\n",
              "       [3.],\n",
              "       [4.],\n",
              "       [5.]])"
            ]
          },
          "metadata": {},
          "execution_count": 92
        }
      ],
      "source": [
        "x = x.reshape((6, 1))\n",
        "x"
      ]
    },
    {
      "cell_type": "code",
      "source": [
        "x=x.reshape((2,3))\n",
        "x"
      ],
      "metadata": {
        "colab": {
          "base_uri": "https://localhost:8080/"
        },
        "id": "xlgkE8weQQjz",
        "outputId": "b3f3f03d-6090-454b-dfe8-af63510d36e9"
      },
      "execution_count": null,
      "outputs": [
        {
          "output_type": "execute_result",
          "data": {
            "text/plain": [
              "array([[0., 3., 1.],\n",
              "       [4., 2., 5.]])"
            ]
          },
          "metadata": {},
          "execution_count": 96
        }
      ]
    },
    {
      "cell_type": "code",
      "execution_count": null,
      "metadata": {
        "id": "6IyVbwAKgcyL",
        "colab": {
          "base_uri": "https://localhost:8080/"
        },
        "outputId": "abb0ce4d-1935-46d3-fdb5-48882716c2ed"
      },
      "outputs": [
        {
          "output_type": "execute_result",
          "data": {
            "text/plain": [
              "(20, 300)"
            ]
          },
          "metadata": {},
          "execution_count": 89
        }
      ],
      "source": [
        "x = np.zeros((300, 20))\n",
        "x = np.transpose(x) #행과 열의 성분 변환\n",
        "x.shape"
      ]
    },
    {
      "cell_type": "markdown",
      "metadata": {
        "id": "Vwv3l6RRgcyL"
      },
      "source": [
        "### Geometric interpretation of tensor operations"
      ]
    },
    {
      "cell_type": "markdown",
      "metadata": {
        "id": "RRz_2_IhgcyL"
      },
      "source": [
        "### A geometric interpretation of deep learning"
      ]
    },
    {
      "cell_type": "markdown",
      "metadata": {
        "id": "yDvtUflGgcyL"
      },
      "source": [
        "## The engine of neural networks: gradient-based optimization"
      ]
    },
    {
      "cell_type": "markdown",
      "metadata": {
        "id": "lEonnNXEgcyL"
      },
      "source": [
        "### What's a derivative?"
      ]
    },
    {
      "cell_type": "markdown",
      "metadata": {
        "id": "WBQaxKAEgcyM"
      },
      "source": [
        "### Derivative of a tensor operation: the gradient"
      ]
    },
    {
      "cell_type": "markdown",
      "metadata": {
        "id": "hrlvFe_vgcyM"
      },
      "source": [
        "### Stochastic gradient descent"
      ]
    },
    {
      "cell_type": "markdown",
      "metadata": {
        "id": "GBxrBMdygcyM"
      },
      "source": [
        "### Chaining derivatives: The Backpropagation algorithm"
      ]
    },
    {
      "cell_type": "markdown",
      "metadata": {
        "id": "IaXMpS7cgcyM"
      },
      "source": [
        "#### The chain rule"
      ]
    },
    {
      "cell_type": "markdown",
      "metadata": {
        "id": "1R8LpWPrgcyM"
      },
      "source": [
        "#### Automatic differentiation with computation graphs"
      ]
    },
    {
      "cell_type": "markdown",
      "metadata": {
        "id": "V2MtpiQygcyM"
      },
      "source": [
        "#### The gradient tape in TensorFlow"
      ]
    },
    {
      "cell_type": "code",
      "execution_count": null,
      "metadata": {
        "id": "EQHSzSmzgcyM",
        "colab": {
          "base_uri": "https://localhost:8080/"
        },
        "outputId": "e80f1230-d43e-42de-edec-4634c35130e4"
      },
      "outputs": [
        {
          "output_type": "execute_result",
          "data": {
            "text/plain": [
              "<tf.Tensor: shape=(), dtype=float32, numpy=2.0>"
            ]
          },
          "metadata": {},
          "execution_count": 122
        }
      ],
      "source": [
        "import tensorflow as tf\n",
        "x = tf.Variable(1.) #Variable 앞글자 대문자로 안 쓰면 ㅈㄹ함;;\n",
        "with tf.GradientTape() as tape:\n",
        "    y = 2 * x + 3\n",
        "grad_of_y_wrt_x = tape.gradient(y, x)\n",
        "grad_of_y_wrt_x#y=2x+3에서 dy/dx를 구하면 2에 해당하므로 numpy=2.0 출력"
      ]
    },
    {
      "cell_type": "code",
      "source": [
        "# z = x^2y+y+xy+3y 일 때, dz/dx와 dz/dy를 구하여라 (답 : 5, 9)\n",
        "import tensorflow as tf\n",
        "x=tf.Variable(2.) #. 안 붙여도 ㅈㄹ함 ;;\n",
        "y=tf.Variable(1.)\n",
        "with tf.GradientTape() as tape:\n",
        "  z = pow(x,2)*y+x*y+3*y\n",
        "grad_of_z_wrt_x = tape.gradient(z, x)\n",
        "with tf.GradientTape() as tape:\n",
        "  z = pow(x,2)*y + x*y + 3*y\n",
        "grad_of_z_wrt_y = tape.gradient(z, y)\n",
        "print(grad_of_z_wrt_x, grad_of_z_wrt_y)"
      ],
      "metadata": {
        "colab": {
          "base_uri": "https://localhost:8080/"
        },
        "id": "kvREoaoTKg1T",
        "outputId": "66028bf9-3166-474a-999a-78052f1cfeaf"
      },
      "execution_count": null,
      "outputs": [
        {
          "output_type": "stream",
          "name": "stdout",
          "text": [
            "tf.Tensor(5.0, shape=(), dtype=float32) tf.Tensor(9.0, shape=(), dtype=float32)\n"
          ]
        }
      ]
    },
    {
      "cell_type": "code",
      "execution_count": null,
      "metadata": {
        "id": "xlDRgMBBgcyM",
        "colab": {
          "base_uri": "https://localhost:8080/"
        },
        "outputId": "aae0614f-4293-42cf-f779-82369ac11b16"
      },
      "outputs": [
        {
          "output_type": "execute_result",
          "data": {
            "text/plain": [
              "<tf.Tensor: shape=(2, 2), dtype=float32, numpy=\n",
              "array([[2., 2.],\n",
              "       [2., 2.]], dtype=float32)>"
            ]
          },
          "metadata": {},
          "execution_count": 125
        }
      ],
      "source": [
        "x = tf.Variable(tf.random.uniform((2, 2)))\n",
        "with tf.GradientTape() as tape:\n",
        "    y = 2 * x + 3\n",
        "grad_of_y_wrt_x = tape.gradient(y, x)\n",
        "grad_of_y_wrt_x #(2,2) 행렬에 dy/dx의 값인 2를 도배하므로 원소가 모두 2임"
      ]
    },
    {
      "cell_type": "code",
      "execution_count": null,
      "metadata": {
        "id": "c182j66UgcyM",
        "colab": {
          "base_uri": "https://localhost:8080/"
        },
        "outputId": "f7098d4e-523a-4ae3-d5ad-ef611ff3d25f"
      },
      "outputs": [
        {
          "output_type": "execute_result",
          "data": {
            "text/plain": [
              "[<tf.Tensor: shape=(2, 2), dtype=float32, numpy=\n",
              " array([[1.3190933, 1.3190933],\n",
              "        [1.5751394, 1.5751394]], dtype=float32)>,\n",
              " <tf.Tensor: shape=(2,), dtype=float32, numpy=array([2., 2.], dtype=float32)>]"
            ]
          },
          "metadata": {},
          "execution_count": 53
        }
      ],
      "source": [
        "W = tf.Variable(tf.random.uniform((2, 2))) # 0과 1사이 실수만을 원소로 취급하는 2x2 매트릭스\n",
        "b = tf.Variable(tf.zeros((2,))) #0으로 이뤄진 2열짜리 스칼라\n",
        "x = tf.random.uniform((2, 2)) #0과 1사이 실수만을 원소로 취급하는 2x2 매트릭스 (W와 크기 일치)\n",
        "with tf.GradientTape() as tape:\n",
        "    y = tf.matmul(x, W) + b #tf.matmul : 행렬곱이랜다\n",
        "grad_of_y_wrt_W_and_b = tape.gradient(y, [W, b])"
      ]
    },
    {
      "cell_type": "code",
      "source": [
        "#교수님도 기억이 안 남 이 예제는\n",
        "import tensorflow as tf\n",
        "x=tf.constant(np.array([1.,4.,3.]).reshape(1,3),dtype=tf.float32)\n",
        "W=tf.Variable(tf.random.uniform((3,2)),dtype=tf.float32)\n",
        "b=tf.Variable(tf.zeros((2,)),dtype=tf.float32)\n",
        "with tf.GradientTape() as tape:\n",
        "  y = tf.matmul(x, W) + b\n",
        "grad_of_y_wrt_W_and_b = tape.gradient(y, [W,b])\n",
        "grad_of_y_wrt_W_and_b"
      ],
      "metadata": {
        "colab": {
          "base_uri": "https://localhost:8080/"
        },
        "id": "he0T_h7PaHWc",
        "outputId": "67c7a29e-7f55-422e-e96f-32a9b9aa4bc7"
      },
      "execution_count": null,
      "outputs": [
        {
          "output_type": "execute_result",
          "data": {
            "text/plain": [
              "[<tf.Tensor: shape=(3, 2), dtype=float32, numpy=\n",
              " array([[1., 1.],\n",
              "        [4., 4.],\n",
              "        [3., 3.]], dtype=float32)>,\n",
              " <tf.Tensor: shape=(2,), dtype=float32, numpy=array([1., 1.], dtype=float32)>]"
            ]
          },
          "metadata": {},
          "execution_count": 80
        }
      ]
    },
    {
      "cell_type": "markdown",
      "metadata": {
        "id": "4TTMMyH0gcyN"
      },
      "source": [
        "## Looking back at our first example"
      ]
    },
    {
      "cell_type": "code",
      "execution_count": null,
      "metadata": {
        "id": "tE8-z7w6gcyN"
      },
      "outputs": [],
      "source": [
        "(train_images, train_labels), (test_images, test_labels) = mnist.load_data()\n",
        "train_images = train_images.reshape((60000, 28 * 28))\n",
        "train_images = train_images.astype(\"float32\") / 255\n",
        "test_images = test_images.reshape((10000, 28 * 28))\n",
        "test_images = test_images.astype(\"float32\") / 255"
      ]
    },
    {
      "cell_type": "code",
      "execution_count": null,
      "metadata": {
        "id": "CwTF2KuNgcyN"
      },
      "outputs": [],
      "source": [
        "model = keras.Sequential([\n",
        "    layers.Dense(512, activation=\"relu\"),\n",
        "    layers.Dense(10, activation=\"softmax\")\n",
        "])"
      ]
    },
    {
      "cell_type": "code",
      "execution_count": null,
      "metadata": {
        "id": "sCPn9y7-gcyN"
      },
      "outputs": [],
      "source": [
        "model.compile(optimizer=\"rmsprop\",\n",
        "              loss=\"sparse_categorical_crossentropy\",\n",
        "              metrics=[\"accuracy\"])"
      ]
    },
    {
      "cell_type": "code",
      "execution_count": null,
      "metadata": {
        "id": "JYbOwSUPgcyN",
        "colab": {
          "base_uri": "https://localhost:8080/"
        },
        "outputId": "fddcbf77-4126-4a18-92fc-2215a8961786"
      },
      "outputs": [
        {
          "output_type": "stream",
          "name": "stdout",
          "text": [
            "Epoch 1/5\n",
            "\u001b[1m469/469\u001b[0m \u001b[32m━━━━━━━━━━━━━━━━━━━━\u001b[0m\u001b[37m\u001b[0m \u001b[1m3s\u001b[0m 3ms/step - accuracy: 0.8764 - loss: 0.4322\n",
            "Epoch 2/5\n",
            "\u001b[1m469/469\u001b[0m \u001b[32m━━━━━━━━━━━━━━━━━━━━\u001b[0m\u001b[37m\u001b[0m \u001b[1m1s\u001b[0m 2ms/step - accuracy: 0.9655 - loss: 0.1156\n",
            "Epoch 3/5\n",
            "\u001b[1m469/469\u001b[0m \u001b[32m━━━━━━━━━━━━━━━━━━━━\u001b[0m\u001b[37m\u001b[0m \u001b[1m1s\u001b[0m 2ms/step - accuracy: 0.9781 - loss: 0.0744\n",
            "Epoch 4/5\n",
            "\u001b[1m469/469\u001b[0m \u001b[32m━━━━━━━━━━━━━━━━━━━━\u001b[0m\u001b[37m\u001b[0m \u001b[1m1s\u001b[0m 2ms/step - accuracy: 0.9853 - loss: 0.0515\n",
            "Epoch 5/5\n",
            "\u001b[1m469/469\u001b[0m \u001b[32m━━━━━━━━━━━━━━━━━━━━\u001b[0m\u001b[37m\u001b[0m \u001b[1m1s\u001b[0m 2ms/step - accuracy: 0.9887 - loss: 0.0398\n"
          ]
        },
        {
          "output_type": "execute_result",
          "data": {
            "text/plain": [
              "<keras.src.callbacks.history.History at 0x7abb50578510>"
            ]
          },
          "metadata": {},
          "execution_count": 156
        }
      ],
      "source": [
        "model.fit(train_images, train_labels, epochs=5, batch_size=128)"
      ]
    },
    {
      "cell_type": "markdown",
      "metadata": {
        "id": "0MSRXBNSgcyN"
      },
      "source": [
        "### Reimplementing our first example from scratch in TensorFlow"
      ]
    },
    {
      "cell_type": "markdown",
      "metadata": {
        "id": "4bQ5z1lHgcyN"
      },
      "source": [
        "#### A simple Dense class"
      ]
    },
    {
      "cell_type": "code",
      "execution_count": null,
      "metadata": {
        "id": "QSi31m7xgcyN"
      },
      "outputs": [],
      "source": [
        "import tensorflow as tf\n",
        "\n",
        "class NaiveDense:\n",
        "    def __init__(self, input_size, output_size, activation): #input_size = p, output_size = q로 정의하자, activation은 x를 투입하였을 때 Wx+b를 도출한다. (init은 initial의 줄임말)\n",
        "        self.activation = activation\n",
        "\n",
        "        w_shape = (input_size, output_size) #W를 qxp 행렬로 정의하여, Wx의 행렬이 output_size에 해당하는 qx1로 나오도록 설정\n",
        "        w_initial_value = tf.random.uniform(w_shape, minval=0, maxval=1e-1)\n",
        "        self.W = tf.Variable(w_initial_value)\n",
        "\n",
        "        b_shape = (output_size,) #Wx의 크기가 qx1, 즉 output_size에 해당하므로 b의 크기도 그에 맞게 설정\n",
        "        b_initial_value = tf.zeros(b_shape)\n",
        "        self.b = tf.Variable(b_initial_value)\n",
        "\n",
        "    def __call__(self, inputs):\n",
        "        return self.activation(tf.matmul(inputs, self.W) + self.b) #input을 x라 생각하면 Wx+b를 의미함을 알 수 있다\n",
        "\n",
        "    @property\n",
        "    def weights(self):\n",
        "        return [self.W, self.b]"
      ]
    },
    {
      "cell_type": "markdown",
      "metadata": {
        "id": "KE3-C-wpgcyO"
      },
      "source": [
        "#### A simple Sequential class"
      ]
    },
    {
      "cell_type": "code",
      "execution_count": null,
      "metadata": {
        "id": "IVP6EnT-gcyO"
      },
      "outputs": [],
      "source": [
        "class NaiveSequential:\n",
        "    def __init__(self, layers):\n",
        "        self.layers = layers #relu, softmax 등의 layer들이 여기에 해당\n",
        "\n",
        "    def __call__(self, inputs):\n",
        "        x = inputs\n",
        "        for layer in self.layers: #layer 씌워서 L2(L1(x)) 값 도출\n",
        "           x = layer(x)\n",
        "        return x\n",
        "\n",
        "    @property\n",
        "    def weights(self):\n",
        "       weights = []\n",
        "       for layer in self.layers:\n",
        "           weights += layer.weights\n",
        "       return weights"
      ]
    },
    {
      "cell_type": "code",
      "execution_count": null,
      "metadata": {
        "id": "3yUlIe8igcyO"
      },
      "outputs": [],
      "source": [
        "model = NaiveSequential([\n",
        "    NaiveDense(input_size=28 * 28, output_size=512, activation=tf.nn.relu),\n",
        "    NaiveDense(input_size=512, output_size=10, activation=tf.nn.softmax)\n",
        "])\n",
        "assert len(model.weights) == 4 #가중치 행렬은 W1, b1, W2, b2로 4개 있으므로 len(model.weights)=4"
      ]
    },
    {
      "cell_type": "markdown",
      "metadata": {
        "id": "SEgckTH4gcyO"
      },
      "source": [
        "#### A batch generator"
      ]
    },
    {
      "cell_type": "code",
      "execution_count": null,
      "metadata": {
        "id": "EQvXmMR-gcyO"
      },
      "outputs": [],
      "source": [
        "import math\n",
        "\n",
        "class BatchGenerator:\n",
        "    def __init__(self, images, labels, batch_size=128): #images : X, lables : Y\n",
        "        assert len(images) == len(labels)\n",
        "        self.index = 0\n",
        "        self.images = images\n",
        "        self.labels = labels\n",
        "        self.batch_size = batch_size\n",
        "        self.num_batches = math.ceil(len(images) / batch_size) #60000개의 이미지를 100짜리 batch size로 묶으면 batch의 개수는 60000/100 = 600개가 됨\n",
        "\n",
        "    def next(self):\n",
        "        images = self.images[self.index : self.index + self.batch_size] #batch_size 1쌍에 해당하는 크기만큼 (Ex. 0~99번 인덱스) 통과했으면 그 다음 1쌍 (100~199번 인덱스) 통과하도록 좌표 옮겨줌\n",
        "        labels = self.labels[self.index : self.index + self.batch_size]\n",
        "        self.index += self.batch_size #index를 옮겨가며 전 범위가 layer 통과하도록 해줌\n",
        "        return images, labels"
      ]
    },
    {
      "cell_type": "markdown",
      "metadata": {
        "id": "tggAL1mHgcyO"
      },
      "source": [
        "### Running one training step"
      ]
    },
    {
      "cell_type": "code",
      "execution_count": null,
      "metadata": {
        "id": "Ru5Wx50dgcyO"
      },
      "outputs": [],
      "source": [
        "def one_training_step(model, images_batch, labels_batch):\n",
        "    with tf.GradientTape() as tape:\n",
        "        predictions = model(images_batch)\n",
        "        per_sample_losses = tf.keras.losses.sparse_categorical_crossentropy(\n",
        "            labels_batch, predictions)\n",
        "        average_loss = tf.reduce_mean(per_sample_losses)\n",
        "    gradients = tape.gradient(average_loss, model.weights) # C(세타)에 해당, dl/dw, 즉 로스 함수를 가중치로 미분한 값\n",
        "    update_weights(gradients, model.weights)\n",
        "    return average_loss"
      ]
    },
    {
      "cell_type": "code",
      "execution_count": null,
      "metadata": {
        "id": "IBO8fKKmgcyO"
      },
      "outputs": [],
      "source": [
        "learning_rate = 1e-3\n",
        "\n",
        "def update_weights(gradients, weights):\n",
        "    for g, w in zip(gradients, weights):\n",
        "        w.assign_sub(g * learning_rate)"
      ]
    },
    {
      "cell_type": "code",
      "execution_count": null,
      "metadata": {
        "id": "SaYGh97jgcyO"
      },
      "outputs": [],
      "source": [
        "from tensorflow.keras import optimizers\n",
        "\n",
        "optimizer = optimizers.SGD(learning_rate=1e-3)\n",
        "\n",
        "def update_weights(gradients, weights):\n",
        "    optimizer.apply_gradients(zip(gradients, weights))"
      ]
    },
    {
      "cell_type": "markdown",
      "metadata": {
        "id": "hmagTj3egcyP"
      },
      "source": [
        "### The full training loop"
      ]
    },
    {
      "cell_type": "code",
      "execution_count": null,
      "metadata": {
        "id": "AW9qGULbgcyP"
      },
      "outputs": [],
      "source": [
        "def fit(model, images, labels, epochs, batch_size=128):\n",
        "    for epoch_counter in range(epochs):\n",
        "        print(f\"Epoch {epoch_counter}\")\n",
        "        batch_generator = BatchGenerator(images, labels)\n",
        "        for batch_counter in range(batch_generator.num_batches):\n",
        "            images_batch, labels_batch = batch_generator.next()\n",
        "            loss = one_training_step(model, images_batch, labels_batch)\n",
        "            if batch_counter % 100 == 0:\n",
        "                print(f\"loss at batch {batch_counter}: {loss:.2f}\")"
      ]
    },
    {
      "cell_type": "code",
      "execution_count": null,
      "metadata": {
        "id": "elWFZNddgcyP",
        "colab": {
          "base_uri": "https://localhost:8080/"
        },
        "outputId": "f3491298-080e-4f47-dad5-84ca09b14ce0"
      },
      "outputs": [
        {
          "output_type": "stream",
          "name": "stdout",
          "text": [
            "Epoch 0\n",
            "loss at batch 0: 6.88\n",
            "loss at batch 100: 2.25\n",
            "loss at batch 200: 2.26\n",
            "loss at batch 300: 2.14\n",
            "loss at batch 400: 2.25\n",
            "Epoch 1\n",
            "loss at batch 0: 1.97\n",
            "loss at batch 100: 1.90\n",
            "loss at batch 200: 1.88\n",
            "loss at batch 300: 1.76\n",
            "loss at batch 400: 1.85\n",
            "Epoch 2\n",
            "loss at batch 0: 1.65\n",
            "loss at batch 100: 1.60\n",
            "loss at batch 200: 1.55\n",
            "loss at batch 300: 1.46\n",
            "loss at batch 400: 1.53\n",
            "Epoch 3\n",
            "loss at batch 0: 1.38\n",
            "loss at batch 100: 1.36\n",
            "loss at batch 200: 1.27\n",
            "loss at batch 300: 1.24\n",
            "loss at batch 400: 1.29\n",
            "Epoch 4\n",
            "loss at batch 0: 1.17\n",
            "loss at batch 100: 1.17\n",
            "loss at batch 200: 1.07\n",
            "loss at batch 300: 1.07\n",
            "loss at batch 400: 1.12\n",
            "Epoch 5\n",
            "loss at batch 0: 1.01\n",
            "loss at batch 100: 1.03\n",
            "loss at batch 200: 0.92\n",
            "loss at batch 300: 0.94\n",
            "loss at batch 400: 1.00\n",
            "Epoch 6\n",
            "loss at batch 0: 0.90\n",
            "loss at batch 100: 0.92\n",
            "loss at batch 200: 0.81\n",
            "loss at batch 300: 0.84\n",
            "loss at batch 400: 0.90\n",
            "Epoch 7\n",
            "loss at batch 0: 0.81\n",
            "loss at batch 100: 0.83\n",
            "loss at batch 200: 0.73\n",
            "loss at batch 300: 0.77\n",
            "loss at batch 400: 0.84\n",
            "Epoch 8\n",
            "loss at batch 0: 0.74\n",
            "loss at batch 100: 0.76\n",
            "loss at batch 200: 0.67\n",
            "loss at batch 300: 0.71\n",
            "loss at batch 400: 0.78\n",
            "Epoch 9\n",
            "loss at batch 0: 0.69\n",
            "loss at batch 100: 0.70\n",
            "loss at batch 200: 0.61\n",
            "loss at batch 300: 0.66\n",
            "loss at batch 400: 0.74\n"
          ]
        }
      ],
      "source": [
        "from tensorflow.keras.datasets import mnist\n",
        "(train_images, train_labels), (test_images, test_labels) = mnist.load_data()\n",
        "\n",
        "train_images = train_images.reshape((60000, 28 * 28))\n",
        "train_images = train_images.astype(\"float32\") / 255\n",
        "test_images = test_images.reshape((10000, 28 * 28))\n",
        "test_images = test_images.astype(\"float32\") / 255\n",
        "\n",
        "fit(model, train_images, train_labels, epochs=10, batch_size=128)"
      ]
    },
    {
      "cell_type": "markdown",
      "metadata": {
        "id": "_e7klvxJgcyP"
      },
      "source": [
        "### Evaluating the model"
      ]
    },
    {
      "cell_type": "code",
      "execution_count": null,
      "metadata": {
        "id": "8zE3ujzrgcyP",
        "colab": {
          "base_uri": "https://localhost:8080/"
        },
        "outputId": "534c3ace-c23f-46d5-d57b-f0fc76a09d37"
      },
      "outputs": [
        {
          "output_type": "stream",
          "name": "stdout",
          "text": [
            "accuracy: 0.81\n"
          ]
        }
      ],
      "source": [
        "predictions = model(test_images)\n",
        "predictions = predictions.numpy()\n",
        "predicted_labels = np.argmax(predictions, axis=1)\n",
        "matches = predicted_labels == test_labels\n",
        "print(f\"accuracy: {matches.mean():.2f}\")\n",
        "#수제 모델이 Keras 모델보다 정확도 낮음\n",
        "# 1번 : W, b가 더 정교함\n",
        "# 2번 : 수제 모델에서는 Data shuffling이 없음, Keras에는 shuffle 있음\n",
        "# 3번 : Optimizer의 성능 차이"
      ]
    },
    {
      "cell_type": "markdown",
      "metadata": {
        "id": "0BBsRYyhgcyP"
      },
      "source": [
        "## Summary"
      ]
    }
  ],
  "metadata": {
    "colab": {
      "provenance": [],
      "toc_visible": true,
      "gpuType": "T4",
      "collapsed_sections": [
        "IaXMpS7cgcyM",
        "1R8LpWPrgcyM"
      ],
      "include_colab_link": true
    },
    "kernelspec": {
      "display_name": "Python 3",
      "name": "python3"
    },
    "language_info": {
      "codemirror_mode": {
        "name": "ipython",
        "version": 3
      },
      "file_extension": ".py",
      "mimetype": "text/x-python",
      "name": "python",
      "nbconvert_exporter": "python",
      "pygments_lexer": "ipython3",
      "version": "3.7.0"
    },
    "accelerator": "GPU"
  },
  "nbformat": 4,
  "nbformat_minor": 0
}